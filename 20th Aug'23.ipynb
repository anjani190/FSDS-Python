{
 "cells": [
  {
   "cell_type": "code",
   "execution_count": 2,
   "id": "8286aaeb-e8a1-44c3-bdb1-74dcc267cd9f",
   "metadata": {},
   "outputs": [
    {
     "data": {
      "text/plain": [
       "'dlroW olleH'"
      ]
     },
     "execution_count": 2,
     "metadata": {},
     "output_type": "execute_result"
    }
   ],
   "source": [
    "# TOPIC: (String Based Assignment Problem)\n",
    "\n",
    "# 1. Write a program to reverse a string.\n",
    "\n",
    "s=\"Hello World\"\n",
    "s[::-1]"
   ]
  },
  {
   "cell_type": "code",
   "execution_count": 3,
   "id": "cb648a2a-9736-4f6f-bf97-ab795789b2e1",
   "metadata": {},
   "outputs": [
    {
     "name": "stdout",
     "output_type": "stream",
     "text": [
      "String is a palindrome\n"
     ]
    }
   ],
   "source": [
    "#  2. Check if a string is a palindrome.\n",
    "\n",
    "s1='madam'\n",
    "s2=s1[::-1]\n",
    "if s1==s2:\n",
    "    print('String is a palindrome')\n",
    "else:\n",
    "    print('string is not a palindrome')"
   ]
  },
  {
   "cell_type": "code",
   "execution_count": 4,
   "id": "1b6e29be-73c5-40a5-9c5f-2670109b51e1",
   "metadata": {},
   "outputs": [
    {
     "data": {
      "text/plain": [
       "'PWSKILLS'"
      ]
     },
     "execution_count": 4,
     "metadata": {},
     "output_type": "execute_result"
    }
   ],
   "source": [
    "# 3. Convert a string to uppercase.\n",
    "\n",
    "s=\"pwskills\"\n",
    "s.upper()"
   ]
  },
  {
   "cell_type": "code",
   "execution_count": 6,
   "id": "04723601-81c9-4dde-8b4c-cd9075b7d5a1",
   "metadata": {},
   "outputs": [
    {
     "data": {
      "text/plain": [
       "'india'"
      ]
     },
     "execution_count": 6,
     "metadata": {},
     "output_type": "execute_result"
    }
   ],
   "source": [
    "# 4. Convert a string to lowercase.\n",
    "\n",
    "z=\"INDIA\"\n",
    "z.lower()"
   ]
  },
  {
   "cell_type": "code",
   "execution_count": 13,
   "id": "cedd4d02-c7e2-4870-a2f6-3ed4c32e3d0a",
   "metadata": {},
   "outputs": [
    {
     "name": "stdout",
     "output_type": "stream",
     "text": [
      "Total numbers of vowels 12\n"
     ]
    }
   ],
   "source": [
    "#  5. Count the number of vowels in a string.\n",
    "\n",
    "\n",
    "str1=\"Hello Every one How are you all\"\n",
    "vowels=['a','e','i','o','u','A','E','I','O','U']\n",
    "count=0\n",
    "for i in str1:\n",
    "    if(i in vowels):\n",
    "        count+=1\n",
    "print(\"Total numbers of vowels\",count)        \n",
    "        \n",
    "\n"
   ]
  },
  {
   "cell_type": "code",
   "execution_count": 1,
   "id": "0569bf9f-16dd-481c-848c-63ca8f9f32b9",
   "metadata": {},
   "outputs": [
    {
     "name": "stdin",
     "output_type": "stream",
     "text": [
      "Enter your string Hello My name is anjani\n"
     ]
    },
    {
     "name": "stdout",
     "output_type": "stream",
     "text": [
      "Number of consonants- 15\n"
     ]
    }
   ],
   "source": [
    "#  6. Count the number of consonants in a string.\n",
    "str1=input(\"Enter your string\")\n",
    "count=0\n",
    "Vowels=['a','e','i','o','u','A','E','I','O','U']\n",
    "for char in str1:\n",
    "    if(char in Vowels):\n",
    "        pass\n",
    "    else:\n",
    "        count+=1\n",
    "print('Number of consonants-',count)        \n"
   ]
  },
  {
   "cell_type": "code",
   "execution_count": 2,
   "id": "54c1bf5b-95ed-428d-821f-097f403f5c12",
   "metadata": {},
   "outputs": [
    {
     "data": {
      "text/plain": [
       "'Helloeveryonehowareyoudoing'"
      ]
     },
     "execution_count": 2,
     "metadata": {},
     "output_type": "execute_result"
    }
   ],
   "source": [
    "# 7. Remove all whitespaces from a string.\n",
    "\n",
    "z1=\" Hello everyone how are you doing\"\n",
    "z1.replace(\" \",\"\")"
   ]
  },
  {
   "cell_type": "code",
   "execution_count": 4,
   "id": "cf37c6a8-facd-459b-8233-ca639261f589",
   "metadata": {},
   "outputs": [
    {
     "name": "stdout",
     "output_type": "stream",
     "text": [
      "Length of the string 11\n"
     ]
    }
   ],
   "source": [
    "#  8. Find the length of a string without using the `len()` function.\n",
    "\n",
    "Z=\"Hello World\"\n",
    "count=0\n",
    "for i in Z:\n",
    "    count+=1\n",
    "print(\"Length of the string\",count)"
   ]
  },
  {
   "cell_type": "code",
   "execution_count": 11,
   "id": "707f5cc0-fb83-40d6-831f-2755b9542a4e",
   "metadata": {},
   "outputs": [
    {
     "name": "stdout",
     "output_type": "stream",
     "text": [
      "Word is present in the string\n"
     ]
    }
   ],
   "source": [
    "#  9. Check if a string contains a specific word.\n",
    "\n",
    "z=\"Hello World, My name is anjani\"\n",
    "if \"anjani\" in z:\n",
    "    print(\"Word is present in the string\")\n",
    "else:\n",
    "    print(\"Not present\")"
   ]
  },
  {
   "cell_type": "code",
   "execution_count": 13,
   "id": "731ba61c-8124-4e87-95cc-9e5eb172b130",
   "metadata": {},
   "outputs": [
    {
     "data": {
      "text/plain": [
       "'PWSkills is great place for learning'"
      ]
     },
     "execution_count": 13,
     "metadata": {},
     "output_type": "execute_result"
    }
   ],
   "source": [
    "#  10. Replace a word in a string with another word.\n",
    "\n",
    "str1=\"PWSkills is best for learning\"\n",
    "str1.replace(\"best\",'great place')"
   ]
  },
  {
   "cell_type": "code",
   "execution_count": 9,
   "id": "20c02fc7-6bd2-4da4-aeb2-0d5314462c80",
   "metadata": {},
   "outputs": [
    {
     "name": "stdout",
     "output_type": "stream",
     "text": [
      "Number of occurrences= 3\n"
     ]
    }
   ],
   "source": [
    "#  11. Count the occurrences of a word in a string.\n",
    "\n",
    "str1= \"Hello world Hello India Hello bharat\"\n",
    "str2=str1.count(\"Hello\")\n",
    "print(\"Number of occurrences=\",str2)"
   ]
  },
  {
   "cell_type": "code",
   "execution_count": 39,
   "id": "198c880f-376b-4a67-a7da-2290567f515e",
   "metadata": {},
   "outputs": [
    {
     "name": "stdout",
     "output_type": "stream",
     "text": [
      "First occurrence= 6\n"
     ]
    }
   ],
   "source": [
    "#  12. Find the first occurrence of a word in a string.\n",
    "\n",
    "str1=\"Hello India Hello world Hello India \"\n",
    "str2=str1.find('India')\n",
    "print(\"First occurrence=\",str2)\n",
    "\n"
   ]
  },
  {
   "cell_type": "code",
   "execution_count": 45,
   "id": "7a865f44-c801-4653-b879-9930527f8dd4",
   "metadata": {},
   "outputs": [
    {
     "name": "stdout",
     "output_type": "stream",
     "text": [
      "last occurrence of a word= 30\n"
     ]
    }
   ],
   "source": [
    "#  13. Find the last occurrence of a word in a string.\n",
    "\n",
    "str1=\"Hello world how are you world Hello India\"\n",
    "str2=str1.rfind(\"Hello\")\n",
    "print('last occurrence of a word=',str2)\n",
    "\n"
   ]
  },
  {
   "cell_type": "code",
   "execution_count": 47,
   "id": "3d41a1b7-932d-44f7-8c27-e46788bda2cb",
   "metadata": {},
   "outputs": [
    {
     "name": "stdout",
     "output_type": "stream",
     "text": [
      "['Hello', 'world', 'how', 'are', 'you']\n"
     ]
    }
   ],
   "source": [
    "#  14. Split a string into a list of words\n",
    "\n",
    "str1=\"Hello world how are you\"\n",
    "str2=str1.split()\n",
    "print(str2)"
   ]
  },
  {
   "cell_type": "code",
   "execution_count": 37,
   "id": "5cdea327-ffc0-4cfe-b471-33cb6975fdb8",
   "metadata": {},
   "outputs": [
    {
     "name": "stdout",
     "output_type": "stream",
     "text": [
      "Hi Everyone How are you all?\n"
     ]
    }
   ],
   "source": [
    "#  15. Join a list of words into a string.\n",
    "\n",
    "l=['Hi','Everyone','How','are','you','all?']\n",
    "string=' '.join(l)\n",
    "print(string)"
   ]
  },
  {
   "cell_type": "code",
   "execution_count": 38,
   "id": "3994c19c-ca9d-4ceb-87a6-764774aecbfe",
   "metadata": {},
   "outputs": [
    {
     "name": "stdout",
     "output_type": "stream",
     "text": [
      "Hello_Every_one_how_are_you_all_doing.\n"
     ]
    }
   ],
   "source": [
    "#  16. Convert a string where words are separated by spaces to one where words\n",
    "#      are separated by underscores.\n",
    "\n",
    "str1=\"Hello Every one how are you all doing.\"\n",
    "str2=str1.replace(\" \",\"_\")\n",
    "print(str2)\n"
   ]
  },
  {
   "cell_type": "code",
   "execution_count": 50,
   "id": "86bb43b7-cbb8-4055-bf37-aebc6b5d5db6",
   "metadata": {},
   "outputs": [
    {
     "name": "stdout",
     "output_type": "stream",
     "text": [
      "The text starts with the prefix.\n"
     ]
    }
   ],
   "source": [
    "#  17. Check if a string starts with a specific word or phrase.\n",
    "\n",
    "str1=\"Hi My name is anjani kumar\"\n",
    "prefix=\"Hi\"\n",
    "result=str1.startswith(prefix)\n",
    "if result==True:\n",
    "    print(\"The text starts with the prefix.\")\n",
    "else:\n",
    "    print(\"The text does not start with the prefix.\")\n"
   ]
  },
  {
   "cell_type": "code",
   "execution_count": 53,
   "id": "c0826c58-e6b1-4c97-a0b5-35b3c36c8929",
   "metadata": {},
   "outputs": [
    {
     "name": "stdout",
     "output_type": "stream",
     "text": [
      "The text ends with the suffix.\n"
     ]
    }
   ],
   "source": [
    "#  18. Check if a string ends with a specific word or phrase.\n",
    "\n",
    "str1=\"Hi Every one How are you all\"\n",
    "suffix=\"all\"\n",
    "result=str1.endswith(suffix)\n",
    "if result==1:\n",
    "    print(\"The text ends with the suffix.\")\n",
    "else:\n",
    "    print(\"The text does not end with the suffix.\")\n",
    "\n",
    "\n"
   ]
  },
  {
   "cell_type": "code",
   "execution_count": 55,
   "id": "1f4a0eda-7b6a-4942-85f2-b7ce8640d878",
   "metadata": {},
   "outputs": [
    {
     "name": "stdout",
     "output_type": "stream",
     "text": [
      "Hello India\n"
     ]
    }
   ],
   "source": [
    "#  19. Convert a string to title case (e.g., \"hello world\" to \"Hello World\").\n",
    "\n",
    "str1=\"hello india\"\n",
    "str2=str1.title()\n",
    "print(str2)"
   ]
  },
  {
   "cell_type": "code",
   "execution_count": 62,
   "id": "594e4a34-38e9-45da-802f-6fd4e4084286",
   "metadata": {},
   "outputs": [
    {
     "name": "stdout",
     "output_type": "stream",
     "text": [
      "Anjani\n"
     ]
    }
   ],
   "source": [
    "#  20. Find the longest word in a string.\n",
    "\n",
    "str1=\"My name is Anjani kumar\"\n",
    "words=str1.split()\n",
    "longest_word=\"\"\n",
    "max_length=0\n",
    "for word in words:\n",
    "    if len(word) > max_length:\n",
    "        max_length = len(word)\n",
    "        longest_word = word\n",
    "print(longest_word)\n",
    "\n",
    "\n",
    "\n",
    "\n"
   ]
  },
  {
   "cell_type": "code",
   "execution_count": 63,
   "id": "9df8b5db-cb32-4474-acaf-b970be67afdf",
   "metadata": {},
   "outputs": [
    {
     "name": "stdout",
     "output_type": "stream",
     "text": [
      "My\n"
     ]
    }
   ],
   "source": [
    "#  21. Find the shortest word in a string.\n",
    "\n",
    "str1=\"My name is Anjani kumar\"\n",
    "words=str1.split()\n",
    "shortest_word=\"\"\n",
    "min_length=0\n",
    "for word in words:\n",
    "    if len(word) < max_length:\n",
    "        max_length = len(word)\n",
    "        shortest_word = word\n",
    "print(shortest_word)\n"
   ]
  },
  {
   "cell_type": "code",
   "execution_count": 65,
   "id": "a696bbb8-a503-4c7c-abc2-45cf29f3baad",
   "metadata": {},
   "outputs": [
    {
     "name": "stdout",
     "output_type": "stream",
     "text": [
      "['all', 'you', 'are', 'How', 'Everyone', 'Hello']\n"
     ]
    }
   ],
   "source": [
    "#  22. Reverse the order of words in a string.\n",
    "\n",
    "str1=\"Hello Everyone How are you all\"\n",
    "str2=str1.split()\n",
    "str3=str2[::-1]\n",
    "print(str3)"
   ]
  },
  {
   "cell_type": "code",
   "execution_count": 78,
   "id": "bbaa44cb-4516-4633-b50a-09abeae3496a",
   "metadata": {},
   "outputs": [
    {
     "name": "stdout",
     "output_type": "stream",
     "text": [
      "The string is alphanumeric\n"
     ]
    }
   ],
   "source": [
    "#  23. Check if a string is alphanumeric.\n",
    "\n",
    "str1=\"Hello123\"\n",
    "str2=str1.isalnum()\n",
    "if str2 is True:\n",
    "    print(\"The string is alphanumeric\")\n",
    "else:\n",
    "    print(\"The string is not alphanumeric.\")\n",
    "        "
   ]
  },
  {
   "cell_type": "code",
   "execution_count": 89,
   "id": "a01ffe04-8f9d-4aba-8a3c-d01cf08df0f4",
   "metadata": {},
   "outputs": [
    {
     "name": "stdout",
     "output_type": "stream",
     "text": [
      "Extracted digits:  456\n"
     ]
    }
   ],
   "source": [
    "#  24. Extract all digits from a string.\n",
    "\n",
    "str1=\"Hello456\"\n",
    "digit=\" \"\n",
    "for char in str1:\n",
    "    if char.isdigit():\n",
    "        digit+=char\n",
    "print(\"Extracted digits:\",digit)"
   ]
  },
  {
   "cell_type": "code",
   "execution_count": 93,
   "id": "8808353e-e320-4e68-8754-b32dff61f953",
   "metadata": {},
   "outputs": [
    {
     "name": "stdout",
     "output_type": "stream",
     "text": [
      "Extracted alphabets:  Hello\n"
     ]
    }
   ],
   "source": [
    "#  25. Extract all alphabets from a string.\n",
    "\n",
    "str1=\"Hello456\"\n",
    "alphabets=\" \"\n",
    "for char in str1:\n",
    "    if char.isalpha():\n",
    "        alphabets+=char\n",
    "print(\"Extracted alphabets:\",alphabets)"
   ]
  },
  {
   "cell_type": "code",
   "execution_count": 101,
   "id": "5565935c-b48a-4b37-bb91-e13bfefc114d",
   "metadata": {},
   "outputs": [
    {
     "name": "stdin",
     "output_type": "stream",
     "text": [
      "Text=  ANJani\n"
     ]
    },
    {
     "name": "stdout",
     "output_type": "stream",
     "text": [
      "Count: 3\n"
     ]
    }
   ],
   "source": [
    "#  26. Count the number of uppercase letters in a string.\n",
    "\n",
    "text=input(\"Text= \")\n",
    "count=0\n",
    "for character in text:\n",
    "    if (character.isupper()):\n",
    "        count+=1\n",
    "print(\"Count:\",count)"
   ]
  },
  {
   "cell_type": "code",
   "execution_count": 102,
   "id": "13cb9aa8-d101-4a12-ae7f-b8f01de88959",
   "metadata": {},
   "outputs": [
    {
     "name": "stdin",
     "output_type": "stream",
     "text": [
      "Text=  Hi Everyone\n"
     ]
    },
    {
     "name": "stdout",
     "output_type": "stream",
     "text": [
      "Count: 8\n"
     ]
    }
   ],
   "source": [
    "#  27. Count the number of lowercase letters in a string.\n",
    "\n",
    "text=input(\"Text= \")\n",
    "count=0\n",
    "for character in text:\n",
    "    if (character.islower()):\n",
    "        count+=1\n",
    "print(\"Count:\",count)"
   ]
  },
  {
   "cell_type": "code",
   "execution_count": 108,
   "id": "d96f5958-16b6-460c-a566-cec21628406d",
   "metadata": {},
   "outputs": [
    {
     "name": "stdout",
     "output_type": "stream",
     "text": [
      "hELLO eVERYONE\n"
     ]
    }
   ],
   "source": [
    "#  28. Swap the case of each character in a string.\n",
    "\n",
    "text1=\"Hello Everyone\"\n",
    "text2=text1.swapcase()\n",
    "print(text2)"
   ]
  },
  {
   "cell_type": "code",
   "execution_count": 123,
   "id": "107c4ee1-245b-49b1-8d04-53b9af5e2781",
   "metadata": {},
   "outputs": [
    {
     "name": "stdout",
     "output_type": "stream",
     "text": [
      "Hello , welcome to the programming.\n"
     ]
    }
   ],
   "source": [
    "#  29. Remove a specific word from a string.\n",
    " \n",
    "input_string=\"Hello world, welcome to the programming.\"\n",
    "word_to_remove = \"world\"\n",
    "new_str=\" \".join(input_string.replace(word_to_remove,\"\").split())\n",
    "print(new_str)\n"
   ]
  },
  {
   "cell_type": "code",
   "execution_count": 1,
   "id": "8d109947-b225-4839-9620-3a9b4b2e070d",
   "metadata": {},
   "outputs": [
    {
     "name": "stdout",
     "output_type": "stream",
     "text": [
      "Valid Email\n",
      "Valid Email\n",
      "Invalid Email\n"
     ]
    }
   ],
   "source": [
    "#  30. Check if a string is a valid email address.\n",
    "\n",
    "import re\n",
    " \n",
    "# Make a regular expression\n",
    "# for validating an Email\n",
    "regex = r'\\b[A-Za-z0-9._%+-]+@[A-Za-z0-9.-]+\\.[A-Z|a-z]{2,7}\\b'\n",
    " \n",
    "# Define a function for\n",
    "# for validating an Email\n",
    "def check(email):\n",
    " \n",
    "    # pass the regular expression\n",
    "    # and the string into the fullmatch() method\n",
    "    if(re.fullmatch(regex, email)):\n",
    "        print(\"Valid Email\")\n",
    " \n",
    "    else:\n",
    "        print(\"Invalid Email\")\n",
    " \n",
    "# Driver Code\n",
    "if __name__ == '__main__':\n",
    " \n",
    "    # Enter the email\n",
    "    email = \"ankitrai326@gmail.com\"\n",
    " \n",
    "    # calling run function\n",
    "    check(email)\n",
    " \n",
    "    email = \"my.ownsite@our-earth.org\"\n",
    "    check(email)\n",
    " \n",
    "    email = \"ankitrai326.com\"\n",
    "    check(email)"
   ]
  },
  {
   "cell_type": "code",
   "execution_count": 2,
   "id": "3c875e8e-e5af-4e8d-b231-047675ea6ceb",
   "metadata": {},
   "outputs": [
    {
     "name": "stdout",
     "output_type": "stream",
     "text": [
      "The original string is : manjeet@geeksforgeeks.com\n",
      "The extracted domain name : geeksforgeeks.com\n"
     ]
    }
   ],
   "source": [
    "#  31. Extract the username from an email address string.\n",
    "\n",
    "\n",
    "# Python3 code to demonstrate working of\n",
    "# Extract domain name from Email address\n",
    "# Using index() + slicing\n",
    " \n",
    "# initializing strings\n",
    "test_str = 'manjeet@geeksforgeeks.com'\n",
    " \n",
    "# printing original string\n",
    "print(\"The original string is : \" + str(test_str))\n",
    " \n",
    "# slicing domain name using slicing\n",
    "res = test_str[test_str.index('@') + 1 : ]\n",
    " \n",
    "# printing result\n",
    "print(\"The extracted domain name : \" + str(res))"
   ]
  },
  {
   "cell_type": "code",
   "execution_count": 3,
   "id": "799007df-a7aa-4e62-9d25-ecd526be75c6",
   "metadata": {},
   "outputs": [
    {
     "name": "stdout",
     "output_type": "stream",
     "text": [
      "The original string is : manjeet@geeksforgeeks.com\n",
      "The extracted domain name : geeksforgeeks.com\n"
     ]
    }
   ],
   "source": [
    "#  32. Extract the domain name from an email address string. \n",
    "\n",
    "\n",
    "# initializing strings\n",
    "test_str = 'manjeet@geeksforgeeks.com'\n",
    " \n",
    "# printing original string\n",
    "print(\"The original string is : \" + str(test_str))\n",
    " \n",
    "# slicing domain name using slicing\n",
    "res = test_str[test_str.index('@') + 1 : ]\n",
    " \n",
    "# printing result\n",
    "print(\"The extracted domain name : \" + str(res))"
   ]
  },
  {
   "cell_type": "code",
   "execution_count": 9,
   "id": "4a7aca5c-c04c-4c1c-a183-104fda2445f0",
   "metadata": {},
   "outputs": [
    {
     "name": "stdout",
     "output_type": "stream",
     "text": [
      "Hello Python World\n"
     ]
    }
   ],
   "source": [
    "#  33. Replace multiple spaces in a string with a single space.\n",
    "\n",
    "import re\n",
    "\n",
    "msg = \"Hello  Python    World\"\n",
    "\n",
    "removeSpaces = re.sub('\\\\s+', ' ', msg)\n",
    "\n",
    "print(removeSpaces)\n"
   ]
  },
  {
   "cell_type": "code",
   "execution_count": 10,
   "id": "242a0b52-747c-486f-80ca-d157d6d7b806",
   "metadata": {},
   "outputs": [
    {
     "name": "stdout",
     "output_type": "stream",
     "text": [
      "Urls:  ['https://auth.geeksforgeeks.org/user/Chinmoy%20Lenka/articles', 'https://www.geeksforgeeks.org/']\n"
     ]
    }
   ],
   "source": [
    "#  34. Check if a string is a valid URL.\n",
    "\n",
    "def Find(string):\n",
    "    x=string.split()\n",
    "    res=[]\n",
    "    for i in x:\n",
    "        if i.startswith(\"https:\") or i.startswith(\"http:\"):\n",
    "            res.append(i)\n",
    "    return res\n",
    "             \n",
    "# Driver Code\n",
    "string = 'My Profile: https://auth.geeksforgeeks.org/user/Chinmoy%20Lenka/articles in the portal of https://www.geeksforgeeks.org/'\n",
    "print(\"Urls: \", Find(string))"
   ]
  },
  {
   "cell_type": "code",
   "execution_count": 45,
   "id": "cd6672fc-a396-4b1b-95e4-ae4c79718218",
   "metadata": {},
   "outputs": [
    {
     "name": "stdout",
     "output_type": "stream",
     "text": [
      "http://stackoverflow.com/\n"
     ]
    },
    {
     "data": {
      "text/plain": [
       "'http://stackoverflow.com/'"
      ]
     },
     "execution_count": 45,
     "metadata": {},
     "output_type": "execute_result"
    }
   ],
   "source": [
    "#  35. Extract the protocol (http or https) from a URL string.\n",
    "\n",
    "from urllib.parse import urlparse\n",
    "# from urlparse import urlparse  # Python 2\n",
    "parsed_uri = urlparse('http://stackoverflow.com/questions/1234567/blah-blah-blah-blah' )\n",
    "result = '{uri.scheme}://{uri.netloc}/'.format(uri=parsed_uri)\n",
    "print(result)\n",
    "\n",
    "# gives\n",
    "'http://stackoverflow.com/'\n"
   ]
  },
  {
   "cell_type": "code",
   "execution_count": 16,
   "id": "3d7c316a-1317-48a3-a47f-8b67086a900e",
   "metadata": {},
   "outputs": [
    {
     "name": "stdin",
     "output_type": "stream",
     "text": [
      "Enter the string:  Hello everyone\n"
     ]
    },
    {
     "name": "stdout",
     "output_type": "stream",
     "text": [
      "{'H': 1, 'e': 4, 'l': 2, 'o': 2, ' ': 1, 'v': 1, 'r': 1, 'y': 1, 'n': 1}\n"
     ]
    }
   ],
   "source": [
    "#  36. Find the frequency of each character in a string.\n",
    "\n",
    "str1 = input (\"Enter the string: \")\n",
    "d = dict()\n",
    "for c in str1:\n",
    "    if c in d:\n",
    "        d[c] = d[c] + 1\n",
    "    else:\n",
    "        d[c] = 1\n",
    "print(d)"
   ]
  },
  {
   "cell_type": "code",
   "execution_count": 17,
   "id": "b1306da8-bb8f-4420-905f-c7f01e019c18",
   "metadata": {},
   "outputs": [
    {
     "name": "stdout",
     "output_type": "stream",
     "text": [
      "hi what is the weather like\n"
     ]
    }
   ],
   "source": [
    "# 37. Remove all punctuation from a string.\n",
    "\n",
    "import string\n",
    "\n",
    "a_string = '!hi. wh?at is the weat[h]er lik?e.'\n",
    "new_string = a_string.translate(str.maketrans('', '', string.punctuation))\n",
    "\n",
    "print(new_string)"
   ]
  },
  {
   "cell_type": "code",
   "execution_count": 18,
   "id": "96540022-e697-4142-9469-f8950f46db4b",
   "metadata": {},
   "outputs": [
    {
     "name": "stdout",
     "output_type": "stream",
     "text": [
      "Initial Strings :  1234556 ab123bc\n",
      "String1 contains all numbers\n",
      "String2 doesn't contains all numbers\n"
     ]
    }
   ],
   "source": [
    "# 38. Check if a string contains only digits.\n",
    "\n",
    "# Initialising string\n",
    "ini_string1 = '1234556'\n",
    "ini_string2 = 'ab123bc'\n",
    " \n",
    "# printing initial string\n",
    "print(\"Initial Strings : \", ini_string1, ini_string2)\n",
    " \n",
    "# Using isdigit()\n",
    "if ini_string1.isdigit():\n",
    "    print(\"String1 contains all numbers\")\n",
    "else:\n",
    "    print(\"String1 doesn't contains all numbers\")\n",
    " \n",
    "if ini_string2.isdigit():\n",
    "    print(\"String2 contains all numbers\")\n",
    "else:\n",
    "    print(\"String2 doesn't contains all numbers\")"
   ]
  },
  {
   "cell_type": "code",
   "execution_count": 19,
   "id": "0be7490c-eb67-4917-a785-f20452a3acb2",
   "metadata": {},
   "outputs": [
    {
     "name": "stdout",
     "output_type": "stream",
     "text": [
      "Given string does not contain only alphabets.\n"
     ]
    }
   ],
   "source": [
    "#  39. Check if a string contains only alphabets.\n",
    "\n",
    "str1 = \"hello world. welcome to python examples.\"\n",
    "\n",
    "if str1.isalpha():\n",
    "    print('Given string contains only alphabets.')\n",
    "else:\n",
    "    print('Given string does not contain only alphabets.')"
   ]
  },
  {
   "cell_type": "code",
   "execution_count": 20,
   "id": "427563ff-87e5-4cff-ba6a-58345fc9ebf2",
   "metadata": {},
   "outputs": [
    {
     "name": "stdout",
     "output_type": "stream",
     "text": [
      "['G', 'e', 'e', 'k', 's', ' ', 'f', 'o', 'r']\n"
     ]
    }
   ],
   "source": [
    "#  40. Convert a string to a list of characters.\n",
    "\n",
    "s = \"Geeks for\"\n",
    "x = list(s)\n",
    "print(x)"
   ]
  },
  {
   "cell_type": "code",
   "execution_count": 23,
   "id": "a951dc38-52ad-4fab-a116-bcd0305137c5",
   "metadata": {},
   "outputs": [
    {
     "name": "stdout",
     "output_type": "stream",
     "text": [
      "The strings are anagrams.\n"
     ]
    }
   ],
   "source": [
    "#  41. Check if two strings are anagrams.\n",
    "\n",
    "\n",
    "# function to check if two strings are\n",
    "# anagram or not\n",
    "def check(s1, s2):\n",
    "     \n",
    "    # the sorted strings are checked\n",
    "    if(sorted(s1)== sorted(s2)):\n",
    "        print(\"The strings are anagrams.\")\n",
    "    else:\n",
    "        print(\"The strings aren't anagrams.\")        \n",
    "         \n",
    "# driver code \n",
    "s1 =\"listen\"\n",
    "s2 =\"silent\"\n",
    "check(s1, s2)"
   ]
  },
  {
   "cell_type": "code",
   "execution_count": 47,
   "id": "e20ac5de-6071-4c42-8818-0560a4f1174e",
   "metadata": {},
   "outputs": [
    {
     "name": "stdout",
     "output_type": "stream",
     "text": [
      "Hacking key #25: HJFXJWrHNUMJWrIJRT\n"
     ]
    }
   ],
   "source": [
    "#  42. Encode a string using a Caesar cipher.\n",
    "\n",
    "message = 'GIEWIVrGMTLIVrHIQS' #encrypted message\n",
    "LETTERS = 'ABCDEFGHIJKLMNOPQRSTUVWXYZ'\n",
    "\n",
    "for key in range(len(LETTERS)):\n",
    "   translated = ''\n",
    "   for symbol in message:\n",
    "      if symbol in LETTERS:\n",
    "         num = LETTERS.find(symbol)\n",
    "         num = num - key\n",
    "         if num < 0:\n",
    "            num = num + len(LETTERS)\n",
    "         translated = translated + LETTERS[num]\n",
    "      else:\n",
    "         translated = translated + symbol\n",
    "print('Hacking key #%s: %s' % (key, translated))\n",
    "\n"
   ]
  },
  {
   "cell_type": "code",
   "execution_count": 53,
   "id": "0f71a368-dec6-4574-a855-035ead5f48df",
   "metadata": {},
   "outputs": [
    {
     "name": "stdout",
     "output_type": "stream",
     "text": [
      "Hacking key #25: HJFXJWrHNUMJWrIJRT\n"
     ]
    }
   ],
   "source": [
    "#  43. Decode a Caesar cipher encoded string.\n",
    "\n",
    "message = 'GIEWIVrGMTLIVrHIQS' #encrypted message\n",
    "LETTERS = 'ABCDEFGHIJKLMNOPQRSTUVWXYZ'\n",
    "\n",
    "for key in range(len(LETTERS)):\n",
    "   translated = ''\n",
    "   for symbol in message:\n",
    "      if symbol in LETTERS:\n",
    "         num = LETTERS.find(symbol)\n",
    "         num = num - key\n",
    "         if num < 0:\n",
    "            num = num + len(LETTERS)\n",
    "         translated = translated + LETTERS[num]\n",
    "      else:\n",
    "         translated = translated + symbol\n",
    "print('Hacking key #%s: %s' % (key, translated))\n"
   ]
  },
  {
   "cell_type": "code",
   "execution_count": 30,
   "id": "6f62cbc8-f6b1-4e87-96fa-5d766b53edc2",
   "metadata": {},
   "outputs": [
    {
     "name": "stdout",
     "output_type": "stream",
     "text": [
      "The list is :\n",
      "['python is best for coders', 'python is fun', 'python is easy to learn']\n",
      "The word that has the maximum frequency :\n",
      "python\n"
     ]
    }
   ],
   "source": [
    "#  44. Find the most frequent word in a string.\n",
    "\n",
    "from collections import defaultdict\n",
    "my_list = [\"python is best for coders\", \"python is fun\", \"python is easy to learn\"]\n",
    "\n",
    "print(\"The list is :\")\n",
    "print(my_list)\n",
    "\n",
    "my_temp = defaultdict(int)\n",
    "\n",
    "for sub in my_list:\n",
    "   for word in sub.split():\n",
    "      my_temp[word] += 1\n",
    "\n",
    "result = max(my_temp, key=my_temp.get)\n",
    "\n",
    "print(\"The word that has the maximum frequency :\")\n",
    "print(result)\n"
   ]
  },
  {
   "cell_type": "code",
   "execution_count": 31,
   "id": "a5b08399-e0c9-4e3f-a27d-5c8b50181740",
   "metadata": {},
   "outputs": [
    {
     "name": "stdout",
     "output_type": "stream",
     "text": [
      "geeks\n",
      "for\n"
     ]
    }
   ],
   "source": [
    "#  45. Find all unique words in a string.\n",
    "\n",
    "def printWords(l):\n",
    "     \n",
    "    # for loop for iterating\n",
    "    for i in l:\n",
    "        print(i)\n",
    " \n",
    " \n",
    "# Driver code\n",
    "str = \"geeks for geeks\"\n",
    " \n",
    "# storing string in the form of list of words\n",
    "s = set(str.split(\" \"))\n",
    " \n",
    "# passing list to print words function\n",
    "printWords(s)"
   ]
  },
  {
   "cell_type": "code",
   "execution_count": 35,
   "id": "af3a1ca2-6fff-4aa4-9955-5b1bb5db865d",
   "metadata": {},
   "outputs": [
    {
     "name": "stdout",
     "output_type": "stream",
     "text": [
      "In \"coding\" I count 2 syllables\n"
     ]
    }
   ],
   "source": [
    "#  46. Count the number of syllables in a string.\n",
    "\n",
    "def count_syllables(word):\n",
    "    word = word.lower()\n",
    "    counter = 0\n",
    "    is_previous_vowel = False\n",
    "    for index, value in enumerate(word):\n",
    "        if value in [\"a\", \"e\", \"i\", \"o\", \"u\", \"y\"]:\n",
    "            if index == len(word) - 1:\n",
    "                if value == \"e\":\n",
    "                    if counter == 0:\n",
    "                        counter += 1\n",
    "                else:\n",
    "                    counter += 1\n",
    "            else:\n",
    "                if is_previous_vowel == True:\n",
    "                    counter += 1\n",
    "                    is_previous_vowel = False\n",
    "                    break\n",
    "            is_previous_vowel = True\n",
    "        else:\n",
    "            if is_previous_vowel == True:\n",
    "                counter += 1\n",
    "            is_previous_vowel = False\n",
    "    print (\"In \\\"{}\\\" I count {} syllables\".format(word, counter))\n",
    "\n",
    "count_syllables(\"coding\")"
   ]
  },
  {
   "cell_type": "code",
   "execution_count": 36,
   "id": "4248c740-c90b-4266-8cab-01f7758f07e1",
   "metadata": {},
   "outputs": [
    {
     "name": "stdout",
     "output_type": "stream",
     "text": [
      "Hello15\n",
      "string is accepted\n"
     ]
    }
   ],
   "source": [
    "# 47. Check if a string contains any special characters.\n",
    "\n",
    "import re\n",
    "\n",
    "def find(string):\n",
    "    special_char=re.compile('[@_!$%^&*()<>?/\\|}{~:]#')\n",
    "    \n",
    "    if special_char.search(string) == None:\n",
    "        return \"string is accepted\"\n",
    "    else:\n",
    "        return \"string not accpeted\"\n",
    "   \n",
    "\n",
    "s=\"Hello15\"\n",
    "print(s)\n",
    "print(find(s))"
   ]
  },
  {
   "cell_type": "code",
   "execution_count": 37,
   "id": "be8432c7-6899-443f-b3c7-0c6dc40b7fd1",
   "metadata": {},
   "outputs": [
    {
     "name": "stdout",
     "output_type": "stream",
     "text": [
      "Updated list is: ['geeks', 'for']\n"
     ]
    },
    {
     "data": {
      "text/plain": [
       "['geeks', 'for']"
      ]
     },
     "execution_count": 37,
     "metadata": {},
     "output_type": "execute_result"
    }
   ],
   "source": [
    "#  48. Remove the nth word from a string.\n",
    "import numpy as np\n",
    " \n",
    " \n",
    "def RemoveIthWord(list, word, N):\n",
    "   \n",
    "    # convert the given list to a NumPy array\n",
    "    arr = np.array(list)\n",
    " \n",
    "    # find the indices of the Nth\n",
    "    # occurrence of the given word\n",
    "    indices = np.where(arr == word)[0]\n",
    " \n",
    "    # if the number of occurrences is less\n",
    "    # than N, print \"Item not found\" and\n",
    "    # return the original list\n",
    "    if len(indices) < N:\n",
    "        print(\"Item not found\")\n",
    "        return list\n",
    " \n",
    "    # use the np.delete() method to remove\n",
    "    # the Nth occurrence of the given word\n",
    "    # from the NumPy array\n",
    "    arr = np.delete(arr, indices[N-1])\n",
    " \n",
    "    # convert the modified NumPy array\n",
    "    # back to a list and return it\n",
    "    new_list = arr.tolist()\n",
    "    print(\"Updated list is:\", new_list)\n",
    "    return new_list\n",
    " \n",
    " \n",
    "# Driver Code\n",
    "list = [\"geeks\", \"for\", \"geeks\"]\n",
    "word = \"geeks\"\n",
    "N = 2\n",
    " \n",
    "RemoveIthWord(list, word, N)\n"
   ]
  },
  {
   "cell_type": "code",
   "execution_count": 39,
   "id": "ee6b79ee-98d2-4ae8-954d-993f95eec145",
   "metadata": {},
   "outputs": [
    {
     "name": "stdout",
     "output_type": "stream",
     "text": [
      "Adding 't' at the end of an input string:\n",
      " Hello Indiat\n"
     ]
    }
   ],
   "source": [
    "#  49. Insert a word at the nth position in a string.\n",
    "\n",
    "\n",
    "# input string\n",
    "inputString = \"Hello India\"\n",
    "\n",
    "# adding a character at the end of an input string using the + operator\n",
    "inputString = inputString + 't' \n",
    "\n",
    "# printing the resultant string\n",
    "print(\"Adding 't' at the end of an input string:\\n\", inputString)"
   ]
  },
  {
   "cell_type": "code",
   "execution_count": 42,
   "id": "9104a4db-2413-4378-b526-968ea7a329d1",
   "metadata": {},
   "outputs": [
    {
     "name": "stdout",
     "output_type": "stream",
     "text": [
      "        series  episodes        actors\n",
      "0      Friends       200   David Crane\n",
      "1  Money Heist        50        Alvaro\n",
      "2       Marvel        45      Stan Lee\n"
     ]
    }
   ],
   "source": [
    "#  50. Convert a CSV string to a list of lists.\n",
    "\n",
    "# app.py\n",
    "  \n",
    "import pandas as pd\n",
    "  \n",
    "# Creating Dictionary\n",
    "dict = {\n",
    "    'series': ['Friends', 'Money Heist', 'Marvel'],\n",
    "    'episodes': [200, 50, 45],\n",
    "    'actors': [' David Crane', 'Alvaro', 'Stan Lee']\n",
    "}\n",
    "  \n",
    "# Creating Dataframe\n",
    "df = pd.DataFrame(dict)\n",
    "print(df)"
   ]
  },
  {
   "cell_type": "code",
   "execution_count": null,
   "id": "89cb6656-eb5d-4a6d-bd17-a6ad78c1e43b",
   "metadata": {},
   "outputs": [],
   "source": []
  },
  {
   "cell_type": "code",
   "execution_count": 95,
   "id": "83a13069-fe6f-4548-a99c-e21068c32c24",
   "metadata": {},
   "outputs": [],
   "source": [
    "#  1. Create a list with integers from 1 to 10.\n",
    "\n",
    "\n",
    "lis_of_num=list(range(1,11))\n",
    "print(lis_of_num)\n"
   ]
  },
  {
   "cell_type": "code",
   "execution_count": 93,
   "id": "fadd3bec-fe50-48e5-8003-551096949b92",
   "metadata": {},
   "outputs": [
    {
     "name": "stdout",
     "output_type": "stream",
     "text": [
      "6\n"
     ]
    }
   ],
   "source": [
    "#  2. Find the length of a list without using the `len()` function.\n",
    "\n",
    "#take user input\n",
    "lis1 = [1,2,3,4,5,6]\n",
    "\n",
    "count = 0\n",
    "\n",
    "for i in lis1:\n",
    " \n",
    "    count+=1\n",
    "print(count)"
   ]
  },
  {
   "cell_type": "code",
   "execution_count": 101,
   "id": "f4077a9c-95a9-49f2-ad22-7dd0090f39c4",
   "metadata": {},
   "outputs": [
    {
     "name": "stdout",
     "output_type": "stream",
     "text": [
      "['geeks', 'for', 'geeks']\n"
     ]
    }
   ],
   "source": [
    "#  3. Append an element to the end of a list.\n",
    "\n",
    "my_list = ['geeks', 'for']\n",
    "my_list.append('geeks')\n",
    "print (my_list)\n",
    "\n"
   ]
  },
  {
   "cell_type": "code",
   "execution_count": 104,
   "id": "dead15d0-7611-4ce8-bcda-a6496468eddc",
   "metadata": {},
   "outputs": [
    {
     "name": "stdout",
     "output_type": "stream",
     "text": [
      "[1, 2, 'INDIA', 3, 'Hi']\n"
     ]
    }
   ],
   "source": [
    "#  4. Insert an element at a specific index in a list.\n",
    "\n",
    "L1=[1,2,3,\"Hi\"]\n",
    "L1.insert(2,\"INDIA\")\n",
    "print(L1)"
   ]
  },
  {
   "cell_type": "code",
   "execution_count": 105,
   "id": "751e9acf-0343-4c48-9fba-b4154739a921",
   "metadata": {},
   "outputs": [
    {
     "name": "stdout",
     "output_type": "stream",
     "text": [
      "[3, 4, 5, 'Hi', 'ANJANI']\n"
     ]
    }
   ],
   "source": [
    "#  5. Remove an element from a list by its value.\n",
    "\n",
    "Lis=[3,4,5,\"Hi\",\"INDIA\",\"ANJANI\"]\n",
    "Lis.remove(\"INDIA\")\n",
    "print(Lis)\n",
    "\n"
   ]
  },
  {
   "cell_type": "code",
   "execution_count": 107,
   "id": "379ad3af-1c68-4b5f-abbb-13475b97b17b",
   "metadata": {},
   "outputs": [
    {
     "name": "stdout",
     "output_type": "stream",
     "text": [
      "[9, 8, 2, 3, 'INDIA', 'Pw skills']\n"
     ]
    }
   ],
   "source": [
    "#  6. Remove an element from a list by its index.\n",
    "\n",
    "T1= [9,8,2,3,\"Hello\",\"INDIA\",\"Pw skills\"]\n",
    "T1.pop(4)\n",
    "print(T1)"
   ]
  },
  {
   "cell_type": "code",
   "execution_count": 116,
   "id": "bf53b6cf-c8fe-4edf-aada-abe855d7ffb2",
   "metadata": {},
   "outputs": [
    {
     "name": "stdout",
     "output_type": "stream",
     "text": [
      "not exist\n"
     ]
    }
   ],
   "source": [
    "#  7. Check if an element exists in a list.\n",
    "\n",
    "lst=[ 1, 6, 3, 5, 3, 4 ]\n",
    "#checking if element 7 is present\n",
    "# in the given list or not\n",
    "i=7\n",
    "# if element present then return\n",
    "# exist otherwise not exist\n",
    "if i in lst:\n",
    "    print(\"exist\")\n",
    "else:\n",
    "    print(\"not exist\")\n"
   ]
  },
  {
   "cell_type": "code",
   "execution_count": 118,
   "id": "c8abc21c-a820-499d-b0e0-94066da52f09",
   "metadata": {},
   "outputs": [
    {
     "name": "stdout",
     "output_type": "stream",
     "text": [
      "index of 8 in the list : 2\n"
     ]
    }
   ],
   "source": [
    "#  8. Find the index of the first occurrence of an element in a list.\n",
    "\n",
    "mylist = [21, 5, 8, 52, 21, 87]\n",
    "#search item\n",
    "item = 8\n",
    "#find index of item in list\n",
    "index = mylist.index(item)\n",
    "#print output\n",
    "print(f\"index of {item} in the list : {index}\")"
   ]
  },
  {
   "cell_type": "code",
   "execution_count": 120,
   "id": "b9422ce9-3b89-4ec4-b9c9-f3a5bad3af86",
   "metadata": {},
   "outputs": [
    {
     "name": "stdout",
     "output_type": "stream",
     "text": [
      "8 has occurred 5 times\n"
     ]
    }
   ],
   "source": [
    "#  9. Count the occurrences of an element in a list.\n",
    "\n",
    "def countX(lst, x):\n",
    "    count = 0\n",
    "    for ele in lst:\n",
    "        if (ele == x):\n",
    "            count = count + 1\n",
    "    return count\n",
    " \n",
    " \n",
    "# Driver Code\n",
    "lst = [8, 6, 8, 10, 8, 20, 10, 8, 8]\n",
    "x = 8\n",
    "print('{} has occurred {} times'.format(x,\n",
    "                                        countX(lst, x)))"
   ]
  },
  {
   "cell_type": "code",
   "execution_count": 121,
   "id": "0ee581a8-973e-4a5f-95b7-ab53c9564e24",
   "metadata": {},
   "outputs": [
    {
     "name": "stdout",
     "output_type": "stream",
     "text": [
      "['Hello', 4, 3, 2, 1]\n"
     ]
    }
   ],
   "source": [
    "#  10. Reverse the order of elements in a list.\n",
    "\n",
    "Lus=[1,2,3,4,\"Hello\"]\n",
    "Rev=Lus[::-1]\n",
    "print(Rev)"
   ]
  },
  {
   "cell_type": "code",
   "execution_count": 123,
   "id": "dc1f09b1-a761-462c-9abe-1121b2814e4a",
   "metadata": {},
   "outputs": [
    {
     "name": "stdout",
     "output_type": "stream",
     "text": [
      "[3, 7, 8, 10, 11, 22, 33, 54, 100]\n"
     ]
    }
   ],
   "source": [
    "#  11. Sort a list in ascending order.\n",
    "\n",
    "# a list of numbers\n",
    "my_numbers = [10, 8, 3, 22, 33, 7, 11, 100, 54]\n",
    "\n",
    "#sort list in-place in ascending order\n",
    "my_numbers.sort()\n",
    "\n",
    "#print modified list\n",
    "print(my_numbers)\n",
    "\n",
    "#output\n",
    "\n",
    "#[3, 7, 8, 10, 11, 22, 33, 54, 100]"
   ]
  },
  {
   "cell_type": "code",
   "execution_count": 125,
   "id": "7bbc632b-7400-4c60-96c6-c590147f2569",
   "metadata": {},
   "outputs": [
    {
     "name": "stdout",
     "output_type": "stream",
     "text": [
      "[100, 54, 33, 22, 11, 10, 8, 7, 3]\n"
     ]
    }
   ],
   "source": [
    "#  12. Sort a list in descending order.\n",
    "\n",
    "# a list of numbers\n",
    "my_numbers = [10, 8, 3, 22, 33, 7, 11, 100, 54]\n",
    "\n",
    "#sort list in-place in ascending order\n",
    "my_numbers.sort(reverse=True)\n",
    "\n",
    "#print modified list\n",
    "print(my_numbers)\n",
    "\n",
    "#output\n",
    "\n",
    "#[3, 7, 8, 10, 11, 22, 33, 54, 100]"
   ]
  },
  {
   "cell_type": "code",
   "execution_count": 126,
   "id": "ba2ffe18-7560-4316-a4d6-43a9800af7c7",
   "metadata": {},
   "outputs": [
    {
     "name": "stdout",
     "output_type": "stream",
     "text": [
      "[0, 2, 4, 6, 8, 10, 12, 14, 16, 18, 20]\n"
     ]
    }
   ],
   "source": [
    "#  13. Create a list of even numbers from 1 to 20.\n",
    "\n",
    "even_numbers = [x for x in range(21) if x%2==0]\n",
    "print(even_numbers)\n"
   ]
  },
  {
   "cell_type": "code",
   "execution_count": 128,
   "id": "beb0c333-ae4e-4bb2-acb6-bd49bb5f5799",
   "metadata": {},
   "outputs": [
    {
     "name": "stdout",
     "output_type": "stream",
     "text": [
      "[1, 3, 5, 7, 9, 11, 13, 15, 17, 19]\n"
     ]
    }
   ],
   "source": [
    "#  14. Create a list of odd numbers from 1 to 20.\n",
    "\n",
    "odd_numbers = [x for x in range(21) if x%2!=0]\n",
    "print(odd_numbers)"
   ]
  },
  {
   "cell_type": "code",
   "execution_count": 131,
   "id": "e7e6bfbf-1a21-4df8-baf8-07c4e7835ade",
   "metadata": {},
   "outputs": [
    {
     "name": "stdout",
     "output_type": "stream",
     "text": [
      "Sum of all elements in given list:  74\n"
     ]
    }
   ],
   "source": [
    "#  15. Find the sum of all elements in a list.\n",
    "\n",
    "# creating a list\n",
    "list1 = [11, 5, 17, 18, 23]\n",
    " \n",
    "# using sum() function\n",
    "total = sum(list1)\n",
    " \n",
    "# printing total value\n",
    "print(\"Sum of all elements in given list: \", total)\n",
    " \n"
   ]
  },
  {
   "cell_type": "code",
   "execution_count": 136,
   "id": "3a140e1e-5b94-4efa-94e8-cca6a5470c0f",
   "metadata": {},
   "outputs": [
    {
     "name": "stdout",
     "output_type": "stream",
     "text": [
      "8\n"
     ]
    }
   ],
   "source": [
    "#  16. Find the maximum value in a list.\n",
    "\n",
    "# Declaring a list with random integers.\n",
    "list1 = [4, -4, 8, -9, 1]\n",
    "\n",
    "maxValue = max(list1)\n",
    "\n",
    "print(maxValue)"
   ]
  },
  {
   "cell_type": "code",
   "execution_count": 135,
   "id": "4d1c768e-8a03-419d-a77f-48154f510e86",
   "metadata": {},
   "outputs": [
    {
     "name": "stdout",
     "output_type": "stream",
     "text": [
      "-9\n"
     ]
    }
   ],
   "source": [
    "#  17. Find the minimum value in a list.\n",
    "\n",
    "list1 = [4, -4, 8, -9, 1]\n",
    "minValue = min(list1)\n",
    "print(minValue)"
   ]
  },
  {
   "cell_type": "code",
   "execution_count": 138,
   "id": "cff72ab9-2af9-4cfa-b5c9-aeb8801c17be",
   "metadata": {},
   "outputs": [
    {
     "name": "stdout",
     "output_type": "stream",
     "text": [
      "List with square of integers from 1 to 10:\n",
      "[1, 4, 9, 16, 25, 36, 49, 64, 81]\n"
     ]
    }
   ],
   "source": [
    "#  18. Create a list of squares of numbers from 1 to 10.\n",
    "\n",
    "l = []\n",
    "\n",
    "for i in range(1, 10):\n",
    "    l.append(i * i)\n",
    "\n",
    "print(\"List with square of integers from 1 to 10:\")\n",
    "print(l)\n"
   ]
  },
  {
   "cell_type": "code",
   "execution_count": 143,
   "id": "db0e13ed-a352-448e-9c23-3e21c12be822",
   "metadata": {},
   "outputs": [
    {
     "name": "stdout",
     "output_type": "stream",
     "text": [
      "[7, 5, 4, 4, 4, 3, 9, 3, 3, 9]\n"
     ]
    }
   ],
   "source": [
    "#  19. Create a list of random numbers.\n",
    "\n",
    "import random\n",
    " \n",
    "rand_list=[]\n",
    "n=10\n",
    "for i in range(n):\n",
    "    rand_list.append(random.randint(3,9))\n",
    "print(rand_list)"
   ]
  },
  {
   "cell_type": "code",
   "execution_count": 144,
   "id": "57bb7bcc-3cb0-4cda-8a94-6c0bd193b46f",
   "metadata": {},
   "outputs": [
    {
     "name": "stdout",
     "output_type": "stream",
     "text": [
      "[2, 4, 10, 20, 5]\n"
     ]
    }
   ],
   "source": [
    "#  20. Remove duplicates from a list.\n",
    "\n",
    "# Python code to remove duplicate elements\n",
    "def Remove(duplicate):\n",
    "    final_list = []\n",
    "    for num in duplicate:\n",
    "        if num not in final_list:\n",
    "            final_list.append(num)\n",
    "    return final_list\n",
    "     \n",
    "# Driver Code\n",
    "duplicate = [2, 4, 10, 20, 5, 2, 20, 4]\n",
    "print(Remove(duplicate))\n"
   ]
  },
  {
   "cell_type": "code",
   "execution_count": 145,
   "id": "459c7f54-da1e-4499-a5f2-3c1e82527661",
   "metadata": {},
   "outputs": [
    {
     "name": "stdout",
     "output_type": "stream",
     "text": [
      "{5}\n",
      "No common elements\n"
     ]
    }
   ],
   "source": [
    "# 21. Find the common elements between two lists.\n",
    "\n",
    "def common_member(a, b):\n",
    "    a_set = set(a)\n",
    "    b_set = set(b)\n",
    " \n",
    "    if (a_set & b_set):\n",
    "        print(a_set & b_set)\n",
    "    else:\n",
    "        print(\"No common elements\")\n",
    "          \n",
    "  \n",
    "a = [1, 2, 3, 4, 5]\n",
    "b = [5, 6, 7, 8, 9]\n",
    "common_member(a, b)\n",
    "  \n",
    "a = [1, 2, 3, 4, 5]\n",
    "b = [6, 7, 8, 9]\n",
    "common_member(a, b)"
   ]
  },
  {
   "cell_type": "code",
   "execution_count": 147,
   "id": "a18ae811-f9a9-4777-8b5a-5fe555b72fcb",
   "metadata": {},
   "outputs": [
    {
     "name": "stdout",
     "output_type": "stream",
     "text": [
      "[10, 15, 20, 30]\n"
     ]
    }
   ],
   "source": [
    "#  22. Find the difference between two lists.\n",
    "\n",
    "li1 = [10, 15, 20, 25, 30, 35, 40]\n",
    "li2 = [25, 40, 35]\n",
    " \n",
    "temp3 = []\n",
    "for element in li1:\n",
    "    if element not in li2:\n",
    "        temp3.append(element)\n",
    " \n",
    "print(temp3)\n",
    " "
   ]
  },
  {
   "cell_type": "code",
   "execution_count": 152,
   "id": "50f57630-ccfc-40ba-af8b-46883b4b48e2",
   "metadata": {},
   "outputs": [
    {
     "name": "stdout",
     "output_type": "stream",
     "text": [
      "[15, 20, 35, 40, 99, 44, 13]\n"
     ]
    }
   ],
   "source": [
    "#  23. Merge two lists.\n",
    "\n",
    "\n",
    "def merge():\n",
    "    #list 1\n",
    "    ls1 = [15,20,35,40]\n",
    "    #list 2\n",
    "    ls2 = [99,44,13]\n",
    "    #merging using '+' operator\n",
    "    ls = ls1 + ls2\n",
    "    print(ls)\n",
    "merge()   "
   ]
  },
  {
   "cell_type": "code",
   "execution_count": 156,
   "id": "3aac85b5-a531-4e51-b301-b32a6cb0685d",
   "metadata": {},
   "outputs": [
    {
     "name": "stdout",
     "output_type": "stream",
     "text": [
      "[200, 400, 600, 800, 1000]\n"
     ]
    }
   ],
   "source": [
    "#  24. Multiply all elements in a list by 2.\n",
    "\n",
    "sample_list = [100, 200, 300, 400, 500]\n",
    "new_list = [i * 2 for i in sample_list]\n",
    "print(new_list)"
   ]
  },
  {
   "cell_type": "code",
   "execution_count": null,
   "id": "a7a03288-79c3-4b21-885e-90d6ad343d96",
   "metadata": {},
   "outputs": [],
   "source": [
    "#  25. Filter out all even numbers from a list\n",
    "\n",
    "def even(x):\n",
    "    return x % 2 == 0\n",
    " \n",
    "a = [2, 5, 7, 8, 10, 13, 16]\n",
    " \n",
    "result = filter(even, a)\n",
    "print('Original List :', a)\n",
    "print('Filtered List :', list(result))\n"
   ]
  },
  {
   "cell_type": "code",
   "execution_count": 1,
   "id": "e8e6a143-5e98-4b54-9eeb-f0b87ce9356c",
   "metadata": {},
   "outputs": [
    {
     "name": "stdout",
     "output_type": "stream",
     "text": [
      "Modified list is : [1, 4, 3, 6, 7]\n"
     ]
    }
   ],
   "source": [
    "#  26. Convert a list of strings to a list of integers.\n",
    "\n",
    "test_list = ['1', '4', '3', '6', '7']\n",
    " \n",
    "# using loop\n",
    "for i in range(0, len(test_list)):\n",
    "    test_list[i] = int(test_list[i])\n",
    " \n",
    "# Printing modified list\n",
    "print(\"Modified list is : \" + str(test_list))"
   ]
  },
  {
   "cell_type": "code",
   "execution_count": 2,
   "id": "0cfadc59-99b0-4bac-ab4d-b7cbb6cc97d8",
   "metadata": {},
   "outputs": [
    {
     "name": "stdout",
     "output_type": "stream",
     "text": [
      "['1', '12', '15', '21', '131']\n"
     ]
    }
   ],
   "source": [
    "#  27. Convert a list of integers to a list of strings.\n",
    "\n",
    "# Python code to convert list of\n",
    "# string into sorted list of integer\n",
    "   \n",
    "# List initialization\n",
    "list_int = [1, 12, 15, 21, 131]\n",
    "   \n",
    "# mapping\n",
    "list_string = map(str, list_int)\n",
    "   \n",
    "# Printing sorted list of integers\n",
    "print(list(list_string))"
   ]
  },
  {
   "cell_type": "code",
   "execution_count": 3,
   "id": "f0ade603-c344-4d95-9d8f-b39523005920",
   "metadata": {},
   "outputs": [
    {
     "name": "stdout",
     "output_type": "stream",
     "text": [
      "[1, 2, 3, 4, 5, 6, 7]\n"
     ]
    }
   ],
   "source": [
    "#  28. Flatten a nested list.\n",
    "\n",
    "my_list = [[1], [2, 3], [4, 5, 6, 7]]\n",
    "\n",
    "flat_list = [num for sublist in my_list for num in sublist]\n",
    "print(flat_list)"
   ]
  },
  {
   "cell_type": "code",
   "execution_count": 7,
   "id": "ed931e47-c3a3-4f3a-a101-7ad47e859aaa",
   "metadata": {},
   "outputs": [
    {
     "name": "stdin",
     "output_type": "stream",
     "text": [
      "How many terms?  10\n"
     ]
    },
    {
     "name": "stdout",
     "output_type": "stream",
     "text": [
      "Fibonacci sequence:\n",
      "0\n",
      "1\n",
      "1\n",
      "2\n",
      "3\n",
      "5\n",
      "8\n",
      "13\n",
      "21\n",
      "34\n"
     ]
    }
   ],
   "source": [
    "#  29. Create a list of the first 10 Fibonacci numbers.\n",
    "\n",
    "nterms = int(input(\"How many terms? \"))\n",
    "\n",
    "# first two terms\n",
    "n1, n2 = 0, 1\n",
    "count = 0\n",
    "\n",
    "# check if the number of terms is valid\n",
    "if nterms <= 0:\n",
    "   print(\"Please enter a positive integer\")\n",
    "# if there is only one term, return n1\n",
    "elif nterms == 1:\n",
    "   print(\"Fibonacci sequence upto\",nterms,\":\")\n",
    "   print(n1)\n",
    "# generate fibonacci sequence\n",
    "else:\n",
    "   print(\"Fibonacci sequence:\")\n",
    "   while count < nterms:\n",
    "       print(n1)\n",
    "       nth = n1 + n2\n",
    "       # update values\n",
    "       n1 = n2\n",
    "       n2 = nth\n",
    "       count += 1"
   ]
  },
  {
   "cell_type": "code",
   "execution_count": 8,
   "id": "9ad8da12-a9f7-48dd-bb6b-0f77cacec21c",
   "metadata": {},
   "outputs": [
    {
     "name": "stdout",
     "output_type": "stream",
     "text": [
      "Original list : [1, 4, 5, 8, 10]\n",
      "Yes, List is sorted.\n"
     ]
    }
   ],
   "source": [
    "#  30. Check if a list is sorted.\n",
    "\n",
    "test_list = [1, 4, 5, 8, 10]\n",
    " \n",
    "# printing original list\n",
    "print (\"Original list : \" + str(test_list))\n",
    " \n",
    "# using naive method to\n",
    "# check sorted list\n",
    "flag = 0\n",
    "i = 1\n",
    "while i < len(test_list):\n",
    "    if(test_list[i] < test_list[i - 1]):\n",
    "        flag = 1\n",
    "    i += 1\n",
    "     \n",
    "# printing result\n",
    "if (not flag) :\n",
    "    print (\"Yes, List is sorted.\")\n",
    "else :\n",
    "    print (\"No, List is not sorted.\")"
   ]
  },
  {
   "cell_type": "code",
   "execution_count": 9,
   "id": "f0ae1fcb-996f-482d-8116-3318658f5beb",
   "metadata": {},
   "outputs": [
    {
     "name": "stdout",
     "output_type": "stream",
     "text": [
      "Original list : [1, 2, 3, 4, 5]\n",
      "[5, 4, 1, 2, 3]\n"
     ]
    }
   ],
   "source": [
    "#  31. Rotate a list to the left by `n` positions.\n",
    "\n",
    "def rotate_list(lst, n):\n",
    "    return list(reversed(lst[-n:])) + lst[:-n]\n",
    " \n",
    "my_list = [1, 2, 3, 4, 5]\n",
    "# printing original list\n",
    "print (\"Original list : \" + str(my_list))\n",
    "  \n",
    "rotated_list = rotate_list(my_list, 2)\n",
    "print(rotated_list)\n",
    "#This code is contributed by Jyothi pinjala"
   ]
  },
  {
   "cell_type": "code",
   "execution_count": 10,
   "id": "0c47dbb2-3c90-4974-bcfe-b7d438a5ba9d",
   "metadata": {},
   "outputs": [
    {
     "name": "stdout",
     "output_type": "stream",
     "text": [
      "[4, 5, 6, 1, 2, 3]\n"
     ]
    }
   ],
   "source": [
    "#  32. Rotate a list to the right by `n` positions.\n",
    "\n",
    "def rightRotate(lists, num):\n",
    "    output_list = []\n",
    " \n",
    "    # Will add values from n to the new list\n",
    "    for item in range(len(lists) - num, len(lists)):\n",
    "        output_list.append(lists[item])\n",
    " \n",
    "    # Will add the values before\n",
    "    # n to the end of new list\n",
    "    for item in range(0, len(lists) - num):\n",
    "        output_list.append(lists[item])\n",
    " \n",
    "    return output_list\n",
    " \n",
    " \n",
    "# Driver Code\n",
    "rotate_num = 3\n",
    "list_1 = [1, 2, 3, 4, 5, 6]\n",
    " \n",
    "print(rightRotate(list_1, rotate_num))"
   ]
  },
  {
   "cell_type": "code",
   "execution_count": 13,
   "id": "c1390b45-98d8-4a23-b27e-f0501f387193",
   "metadata": {},
   "outputs": [
    {
     "name": "stdout",
     "output_type": "stream",
     "text": [
      "[2, 3, 5, 7, 11, 13, 17, 19, 23, 29, 31, 37, 41, 43, 47]\n"
     ]
    }
   ],
   "source": [
    "#  33. Create a list of prime numbers up to 50.\n",
    "\n",
    "def prime_numbers(n):\n",
    "    primes = []\n",
    "    for i in range(2, n + 1):\n",
    "        for j in range(2, int(i ** 0.5) + 1):\n",
    "            if i%j == 0:\n",
    "                break\n",
    "        else:\n",
    "            primes.append(i)\n",
    "    return primes\n",
    "\n",
    "prime_list = prime_numbers(50)\n",
    "print(prime_list)"
   ]
  },
  {
   "cell_type": "code",
   "execution_count": 14,
   "id": "b57833a4-2908-4f72-a524-9fcd5cdf4c64",
   "metadata": {},
   "outputs": [
    {
     "name": "stdout",
     "output_type": "stream",
     "text": [
      "[['geeks', 'for', 'geeks', 'like', 'geeky'], ['nerdy', 'geek', 'love', 'questions', 'words'], ['life']]\n"
     ]
    }
   ],
   "source": [
    "#  34. Split a list into chunks of size `n`.\n",
    "\n",
    "my_list = ['geeks', 'for', 'geeks', 'like',\n",
    "           'geeky','nerdy', 'geek', 'love',\n",
    "               'questions','words', 'life']\n",
    "  \n",
    "# Yield successive n-sized\n",
    "# chunks from l.\n",
    "def divide_chunks(l, n):\n",
    "      \n",
    "    # looping till length l\n",
    "    for i in range(0, len(l), n): \n",
    "        yield l[i:i + n]\n",
    "  \n",
    "# How many elements each\n",
    "# list should have\n",
    "n = 5\n",
    "  \n",
    "x = list(divide_chunks(my_list, n))\n",
    "print (x)"
   ]
  },
  {
   "cell_type": "code",
   "execution_count": 15,
   "id": "1d95f53e-6818-4fc1-86de-231b2c4629f0",
   "metadata": {},
   "outputs": [
    {
     "name": "stdout",
     "output_type": "stream",
     "text": [
      "Second highest number is :  45\n"
     ]
    }
   ],
   "source": [
    "#  35. Find the second largest number in a list.\n",
    "\n",
    "list1 = [10, 20, 4, 45, 99]\n",
    " \n",
    "mx = max(list1[0], list1[1])\n",
    "secondmax = min(list1[0], list1[1])\n",
    "n = len(list1)\n",
    "for i in range(2,n):\n",
    "    if list1[i] > mx:\n",
    "        secondmax = mx\n",
    "        mx = list1[i]\n",
    "    elif list1[i] > secondmax and \\\n",
    "        mx != list1[i]:\n",
    "        secondmax = list1[i]\n",
    "    elif mx == secondmax and \\\n",
    "        secondmax != list1[i]:\n",
    "          secondmax = list1[i]\n",
    " \n",
    "print(\"Second highest number is : \",\\\n",
    "      str(secondmax))"
   ]
  },
  {
   "cell_type": "code",
   "execution_count": 17,
   "id": "250809e0-3a8f-4d94-ae68-12d683312543",
   "metadata": {},
   "outputs": [
    {
     "name": "stdout",
     "output_type": "stream",
     "text": [
      "[1, 16, 9, 4, 25]\n"
     ]
    }
   ],
   "source": [
    "#  36. Replace every element in a list with its square.\n",
    "\n",
    "def square_list(list1):\n",
    "    for i in list1:\n",
    "        list1[list1.index(i)] = i**2\n",
    "    print(list1)\n",
    "\n",
    "square_list([1, 2, 3, 4, 5])"
   ]
  },
  {
   "cell_type": "code",
   "execution_count": 18,
   "id": "c31f35ba-2ed0-4b89-be6d-62948ed70a8a",
   "metadata": {},
   "outputs": [
    {
     "name": "stdout",
     "output_type": "stream",
     "text": [
      "{0: 'a', 1: 'b', 2: 'c', 3: 'd', 4: 'e'}\n"
     ]
    }
   ],
   "source": [
    "# 37. Convert a list to a dictionary where list elements become keys and their\n",
    "# indices become values.\n",
    "\n",
    "def list_to_dict_with_index(lst):\n",
    "    dict_with_index = {index: value for index, value in enumerate(lst)}\n",
    "    return dict_with_index\n",
    " \n",
    "if __name__ == \"__main__\":\n",
    "    sample_list = ['a', 'b', 'c', 'd', 'e']\n",
    "    result_dict = list_to_dict_with_index(sample_list)\n",
    "    print(result_dict)"
   ]
  },
  {
   "cell_type": "code",
   "execution_count": 19,
   "id": "6e4ce727-1903-4707-b126-3e63e519aaf6",
   "metadata": {},
   "outputs": [
    {
     "name": "stdout",
     "output_type": "stream",
     "text": [
      "['banana', 'cherry', 'apple']\n"
     ]
    }
   ],
   "source": [
    "#  38. Shuffle the elements of a list randomly.\n",
    "\n",
    "import random\n",
    "\n",
    "mylist = [\"apple\", \"banana\", \"cherry\"]\n",
    "random.shuffle(mylist)\n",
    "\n",
    "print(mylist)"
   ]
  },
  {
   "cell_type": "code",
   "execution_count": 23,
   "id": "0a1124fe-1a4c-4538-b5f7-591977abbcf5",
   "metadata": {},
   "outputs": [
    {
     "name": "stdout",
     "output_type": "stream",
     "text": [
      "Factorial of 1 is 1\n",
      "Factorial of 2 is 2\n",
      "Factorial of 3 is 12\n",
      "Factorial of 4 is 288\n",
      "Factorial of 5 is 34560\n",
      "Factorial of 6 is 24883200\n",
      "Factorial of 7 is 125411328000\n",
      "Factorial of 8 is 5056584744960000\n",
      "Factorial of 9 is 1834933472251084800000\n",
      "Factorial of 10 is 6658606584104736522240000000\n"
     ]
    }
   ],
   "source": [
    "#  39. Create a list of the first 10 factorial numbers.\n",
    "\n",
    "input_set = {1, 2, 3, 4, 5,6,7,8,9,10}\n",
    "fact = 1\n",
    "for item in input_set:\n",
    "    for number in range(1,item+1):\n",
    "        fact = fact * number\n",
    "    print (\"Factorial of\", item, \"is\", fact)"
   ]
  },
  {
   "cell_type": "code",
   "execution_count": 24,
   "id": "9015ddff-9f82-4e0f-8a6c-683710a8434a",
   "metadata": {},
   "outputs": [
    {
     "name": "stdout",
     "output_type": "stream",
     "text": [
      "List1 =  [4, 10, 15, 20, 25, 30]\n",
      "List2 =  [12, 24, 25, 35, 45, 65]\n",
      "Are common elements in both the lists?  True\n"
     ]
    }
   ],
   "source": [
    "#  40. Check if two lists have at least one element in common.\n",
    "\n",
    "def commonFunc(list1, list2):\n",
    "\tp_set = set(p)\n",
    "\tq_set = set(q)\n",
    "\tif len(p_set.intersection(q_set)) > 0:\n",
    "\t\treturn True\n",
    "\treturn False\n",
    "\t\n",
    "# First List\n",
    "p = [4, 10, 15, 20, 25, 30]\n",
    "print(\"List1 = \",p)\n",
    "\n",
    "# Second List\n",
    "q = [12, 24, 25, 35, 45, 65]\n",
    "print(\"List2 = \",q)\n",
    "\n",
    "print(\"Are common elements in both the lists? \",commonFunc(p, q))"
   ]
  },
  {
   "cell_type": "code",
   "execution_count": 25,
   "id": "dd467ff1-46b0-4cb0-b9c2-8710e75d13b0",
   "metadata": {},
   "outputs": [
    {
     "name": "stdout",
     "output_type": "stream",
     "text": [
      "[1, 2, 3, 4, 5]\n",
      "[]\n"
     ]
    }
   ],
   "source": [
    "#  41. Remove all elements from a list.\n",
    "if __name__ == '__main__':\n",
    " \n",
    "    a = [1, 2, 3, 4, 5]\n",
    " \n",
    "    print(a)    # prints [1, 2, 3, 4, 5]\n",
    "    a.clear()\n",
    "    print(a)    # prints []\n",
    " \n"
   ]
  },
  {
   "cell_type": "code",
   "execution_count": 26,
   "id": "c58a8b29-037f-445e-8877-8704ab29709b",
   "metadata": {},
   "outputs": [
    {
     "name": "stdout",
     "output_type": "stream",
     "text": [
      "initial array [ 1  2 -3  4 -5 -6]\n",
      "New resulting array:  [1 2 0 4 0 0]\n"
     ]
    }
   ],
   "source": [
    "#  42. Replace negative numbers in a list with 0.\n",
    "\n",
    "# Python code to demonstrate\n",
    "# to replace negative value with 0\n",
    "import numpy as np\n",
    " \n",
    "ini_array1 = np.array([1, 2, -3, 4, -5, -6])\n",
    " \n",
    "# printing initial arrays\n",
    "print(\"initial array\", ini_array1)\n",
    " \n",
    "# code to replace all negative value with 0\n",
    "ini_array1[ini_array1<0] = 0\n",
    " \n",
    "# printing result\n",
    "print(\"New resulting array: \", ini_array1)"
   ]
  },
  {
   "cell_type": "code",
   "execution_count": 27,
   "id": "b5fce578-d212-44be-b3cf-7cf0e482db45",
   "metadata": {},
   "outputs": [
    {
     "name": "stdout",
     "output_type": "stream",
     "text": [
      "The given string is\n",
      "Hello Everyone Welcome to Tutoiralspoint\n",
      "Converting them into list of words\n",
      "['Hello', 'Everyone', 'Welcome', 'to', 'Tutoiralspoint']\n"
     ]
    }
   ],
   "source": [
    "#  43. Convert a string into a list of words.\n",
    "\n",
    "str1= \"Hello Everyone Welcome to Tutoiralspoint\"\n",
    "\n",
    "print(\"The given string is\")\n",
    "print(str1)\n",
    "\n",
    "print(\"Converting them into list of words\")\n",
    "res = str1.split()\n",
    "print(res)"
   ]
  },
  {
   "cell_type": "code",
   "execution_count": 30,
   "id": "4e07a157-8c00-4255-b77c-ed5f214a0cd4",
   "metadata": {},
   "outputs": [
    {
     "name": "stdout",
     "output_type": "stream",
     "text": [
      "Geeks for Geeks\n"
     ]
    }
   ],
   "source": [
    "#  44. Convert a list of words into a string.\n",
    "\n",
    "def listToString(s):\n",
    " \n",
    "    # initialize an empty string\n",
    "    str1 = \" \"\n",
    " \n",
    "    # return string\n",
    "    return (str1.join(s))\n",
    "     \n",
    "     \n",
    "# Driver code\n",
    "s = ['Geeks', 'for', 'Geeks']\n",
    "print(listToString(s))"
   ]
  },
  {
   "cell_type": "code",
   "execution_count": 35,
   "id": "04384d9c-9a28-4b46-865c-47be576f2e72",
   "metadata": {},
   "outputs": [
    {
     "name": "stdout",
     "output_type": "stream",
     "text": [
      "The value n is : \n",
      "4\n",
      "The value of k is : \n",
      "5\n",
      "The square values of N till K : \n",
      "[1, 4, 16, 64, 256]\n"
     ]
    }
   ],
   "source": [
    "#  45. Create a list of the first `n` powers of 2.\n",
    "\n",
    "n = 4\n",
    "\n",
    "print(\"The value n is : \")\n",
    "print(n)\n",
    "k = 5\n",
    "print(\"The value of k is : \")\n",
    "print(k)\n",
    "result = [n ** index for index in range(0, k)]\n",
    "\n",
    "print(\"The square values of N till K : \" )\n",
    "print(result)"
   ]
  },
  {
   "cell_type": "code",
   "execution_count": 36,
   "id": "df25332e-ba7c-4e0d-92a8-2d13b472b531",
   "metadata": {},
   "outputs": [
    {
     "name": "stdout",
     "output_type": "stream",
     "text": [
      "The original list : ['gfg', 'is', 'best', 'for', 'geeks']\n",
      "Maximum length string is : geeks\n"
     ]
    }
   ],
   "source": [
    "#  46. Find the longest string in a list of strings.\n",
    "\n",
    "test_list = ['gfg', 'is', 'best', 'for', 'geeks']\n",
    " \n",
    "# printing original list\n",
    "print(\"The original list : \" + str(test_list))\n",
    " \n",
    "# Longest String in list\n",
    "# using loop\n",
    "max_len = -1\n",
    "for ele in test_list:\n",
    "    if len(ele) > max_len:\n",
    "        max_len = len(ele)\n",
    "        res = ele\n",
    " \n",
    "# printing result\n",
    "print(\"Maximum length string is : \" + res)"
   ]
  },
  {
   "cell_type": "code",
   "execution_count": 38,
   "id": "14e27697-438e-42e4-a3d5-6e9c5c2f3f3a",
   "metadata": {},
   "outputs": [
    {
     "name": "stdout",
     "output_type": "stream",
     "text": [
      "The original list : ['gfg', 'is', 'best']\n",
      "Length of minimum string is : 2\n"
     ]
    }
   ],
   "source": [
    "# 47. Find the shortest string in a list of strings.\n",
    "\n",
    "\n",
    "test_list = ['gfg', 'is', 'best']\n",
    " \n",
    "# printing original list\n",
    "print(\"The original list : \" + str(test_list))\n",
    " \n",
    "# Minimum String length\n",
    "# using min() + generator expression\n",
    "res = min(len(ele) for ele in test_list)\n",
    " \n",
    "# printing result\n",
    "print(\"Length of minimum string is : \" + str(res))\n"
   ]
  },
  {
   "cell_type": "code",
   "execution_count": 39,
   "id": "7ec92cd3-0b46-4228-81b5-f80ff8c427c4",
   "metadata": {},
   "outputs": [
    {
     "name": "stdout",
     "output_type": "stream",
     "text": [
      "[1, 3, 6, 10, 15, 21, 28, 36, 45, 55]\n"
     ]
    }
   ],
   "source": [
    "#  48. Create a list of the first `n` triangular numbers.\n",
    "\n",
    "n = 10\n",
    "triangle_nums = []\n",
    "tri_num = 0\n",
    "\n",
    "for i in range(1, n + 1):\n",
    "    tri_num += i\n",
    "    triangle_nums.append(tri_num)\n",
    "\n",
    "print(triangle_nums)\n"
   ]
  },
  {
   "cell_type": "code",
   "execution_count": 44,
   "id": "7ca12156-2fc1-442a-a7bd-aa3e8ffe4621",
   "metadata": {},
   "outputs": [
    {
     "name": "stdout",
     "output_type": "stream",
     "text": [
      "True\n"
     ]
    }
   ],
   "source": [
    "#  49. Check if a list contains another list as a subsequence.\n",
    "\n",
    "def removeElements(A, B):\n",
    "     \n",
    "    for i in range(len(B)-len(A)+1):\n",
    "        for j in range(len(A)):\n",
    "            if B[i + j] != A[j]:\n",
    "                break\n",
    "        else:\n",
    "            return True\n",
    "     \n",
    "    return False\n",
    " \n",
    "# Initializing lists  \n",
    "A = [1, 2]\n",
    "B = [1, 2, 3, 1, 1, 2, 2]\n",
    " \n",
    "# Printing result\n",
    "print(removeElements(A, B))\n"
   ]
  },
  {
   "cell_type": "code",
   "execution_count": 46,
   "id": "80f80018-3f12-4234-97af-2c53336b3489",
   "metadata": {},
   "outputs": [
    {
     "name": "stdout",
     "output_type": "stream",
     "text": [
      "Original List: [1, 2, 3, 4, 5]\n",
      "Swapped List: [1, 4, 3, 2, 5]\n"
     ]
    }
   ],
   "source": [
    "#  50. Swap two elements in a list by their indices.\n",
    "\n",
    "numbers = [1, 2, 3, 4, 5]\n",
    "indices = 1, 3\n",
    "print(\"Original List:\", numbers)\n",
    "swapped_list = swap_elements(numbers, *indices)\n",
    "print(\"Swapped List:\", swapped_list)\n"
   ]
  },
  {
   "cell_type": "code",
   "execution_count": null,
   "id": "f5024da0-f9e3-4539-a284-2eee80a14989",
   "metadata": {},
   "outputs": [],
   "source": []
  },
  {
   "cell_type": "code",
   "execution_count": 49,
   "id": "e449c0e5-78d5-4078-a318-6cb211c7bf64",
   "metadata": {},
   "outputs": [
    {
     "name": "stdout",
     "output_type": "stream",
     "text": [
      "(1, 2, 3, 4, 5)\n"
     ]
    }
   ],
   "source": [
    "##   Tuple Based Practice Problem :\n",
    "\n",
    "\n",
    "#  1. Create a tuple with integers from 1 to 5.\n",
    "\n",
    "x = tuple(range(1, 6))\n",
    "print(x)"
   ]
  },
  {
   "cell_type": "code",
   "execution_count": 52,
   "id": "596a9b85-3531-4b41-abea-74afc7635c6d",
   "metadata": {},
   "outputs": [
    {
     "name": "stdout",
     "output_type": "stream",
     "text": [
      "cherry\n"
     ]
    }
   ],
   "source": [
    "#  2. Access the third element of a tuple.\n",
    "\n",
    "thistuple = (\"apple\", \"banana\", \"cherry\")\n",
    "print(thistuple[2])"
   ]
  },
  {
   "cell_type": "code",
   "execution_count": 53,
   "id": "223a97f4-d4e2-436c-95db-770be9837baa",
   "metadata": {},
   "outputs": [
    {
     "name": "stdout",
     "output_type": "stream",
     "text": [
      "5\n"
     ]
    }
   ],
   "source": [
    "#  3. Find the length of a tuple without using the `len()` function.\n",
    "\n",
    "string = 'Hello'\n",
    "\n",
    "count = 0\n",
    "\n",
    "for i in string:\n",
    " \n",
    "    count+=1\n",
    "print(count)"
   ]
  },
  {
   "cell_type": "code",
   "execution_count": 54,
   "id": "e7685eef-4d22-4aa4-89ca-58915badc662",
   "metadata": {},
   "outputs": [
    {
     "name": "stdout",
     "output_type": "stream",
     "text": [
      "0\n",
      "3\n",
      "4\n"
     ]
    }
   ],
   "source": [
    "#  4. Count the occurrences of an element in a tuple.\n",
    "\n",
    "def countX(tup, x):\n",
    "    count = 0\n",
    "    for ele in tup:\n",
    "        if (ele == x):\n",
    "            count = count + 1\n",
    "    return count\n",
    " \n",
    " \n",
    "# Driver Code\n",
    "tup = (10, 8, 5, 2, 10, 15, 10, 8, 5, 8, 8, 2)\n",
    "enq = 4\n",
    "enq1 = 10\n",
    "enq2 = 8\n",
    " \n",
    "print(countX(tup, enq))\n",
    "print(countX(tup, enq1))\n",
    "print(countX(tup, enq2))"
   ]
  },
  {
   "cell_type": "code",
   "execution_count": 56,
   "id": "af094ce6-f6ff-40a0-b581-5375a8ee1cbf",
   "metadata": {},
   "outputs": [
    {
     "name": "stdout",
     "output_type": "stream",
     "text": [
      "2\n"
     ]
    }
   ],
   "source": [
    "#  5. Find the index of the first occurrence of an element in a tuple.\n",
    "\n",
    "my_tuple = ( 4, 2, 5, 6, 7, 5)\n",
    "print(my_tuple.index(5))"
   ]
  },
  {
   "cell_type": "code",
   "execution_count": 58,
   "id": "112dbff9-2bf4-4fd0-8953-a0fb7e9f5724",
   "metadata": {},
   "outputs": [
    {
     "name": "stdout",
     "output_type": "stream",
     "text": [
      "The original tuple : (10, 4, 5, 6, 8)\n",
      "Does tuple contain required value ? : True\n"
     ]
    }
   ],
   "source": [
    "#  6. Check if an element exists in a tuple.\n",
    "\n",
    "test_tup = (10, 4, 5, 6, 8)\n",
    " \n",
    "# printing original tuple\n",
    "print(\"The original tuple : \" + str(test_tup))\n",
    " \n",
    "# initialize N\n",
    "N = 6\n",
    " \n",
    "# Check if element is present in tuple\n",
    "# Using in operator\n",
    "res = N in test_tup\n",
    " \n",
    "# printing result\n",
    "print(\"Does tuple contain required value ? : \" + str(res))"
   ]
  },
  {
   "cell_type": "code",
   "execution_count": 60,
   "id": "0f4c4fdd-8587-4182-8e23-f4aedaeaddbb",
   "metadata": {},
   "outputs": [
    {
     "name": "stdout",
     "output_type": "stream",
     "text": [
      "[0, 2, 4, 6, 8]\n",
      "<class 'list'>\n"
     ]
    }
   ],
   "source": [
    "#  7. Convert a tuple to a list.\n",
    "\n",
    "tuples = (0, 2, 4, 6, 8)\n",
    "mylist = list(tuples)\n",
    "print(mylist)\n",
    "print(type(mylist))\n",
    "\n",
    "# Output:\n",
    "# [0, 2, 4, 6, 8]\n",
    "# <class 'list'>"
   ]
  },
  {
   "cell_type": "code",
   "execution_count": 61,
   "id": "0678dc50-fd53-4d78-82d7-c415acbe80d1",
   "metadata": {},
   "outputs": [
    {
     "name": "stdout",
     "output_type": "stream",
     "text": [
      "(1, 2, 3, 4)\n"
     ]
    }
   ],
   "source": [
    "#  8. Convert a list to a tuple.\n",
    "\n",
    "def convert(list):\n",
    "    return tuple(list)\n",
    " \n",
    "# Driver function\n",
    "list = [1, 2, 3, 4]\n",
    "print(convert(list))"
   ]
  },
  {
   "cell_type": "code",
   "execution_count": 62,
   "id": "8453d615-10ee-478e-869d-af70fef8a5bc",
   "metadata": {},
   "outputs": [
    {
     "name": "stdout",
     "output_type": "stream",
     "text": [
      "MNNIT Allahabad\n",
      "5000\n",
      "Engineering\n"
     ]
    }
   ],
   "source": [
    "#  9. Unpack the elements of a tuple into variables.\n",
    "\n",
    "a = (\"MNNIT Allahabad\", 5000, \"Engineering\") \n",
    " \n",
    "# this lines UNPACKS values\n",
    "# of variable a\n",
    "(college, student, type_ofcollege) = a \n",
    " \n",
    "# print college name\n",
    "print(college)\n",
    " \n",
    "# print no of student\n",
    "print(student)\n",
    " \n",
    "# print type of college\n",
    "print(type_ofcollege)"
   ]
  },
  {
   "cell_type": "code",
   "execution_count": 63,
   "id": "cf02b7b3-6fb0-400f-9303-a1a20c6bb898",
   "metadata": {},
   "outputs": [
    {
     "name": "stdout",
     "output_type": "stream",
     "text": [
      "[0, 2, 4, 6, 8]\n"
     ]
    }
   ],
   "source": [
    "#  10. Create a tuple of even numbers from 1 to 10.\n",
    "\n",
    "even_numbers = [x for x in range(10) if x%2==0]\n",
    "print(even_numbers)"
   ]
  },
  {
   "cell_type": "code",
   "execution_count": 64,
   "id": "c7cc8d50-93d9-47fa-9cde-7c6af50ebabb",
   "metadata": {},
   "outputs": [
    {
     "name": "stdout",
     "output_type": "stream",
     "text": [
      "[1, 3, 5, 7, 9]\n"
     ]
    }
   ],
   "source": [
    "#  11. Create a tuple of odd numbers from 1 to 10.\n",
    "\n",
    "odd_numbers = [x for x in range(10) if x%2==1]\n",
    "print(odd_numbers)"
   ]
  },
  {
   "cell_type": "code",
   "execution_count": 65,
   "id": "177f7f82-f714-437b-ab85-5c3f124fb726",
   "metadata": {},
   "outputs": [
    {
     "name": "stdout",
     "output_type": "stream",
     "text": [
      "The original tuple 1 : (1, 3, 5)\n",
      "The original tuple 2 : (4, 6)\n",
      "The tuple after concatenation is : (1, 3, 5, 4, 6)\n"
     ]
    }
   ],
   "source": [
    "#  12. Concatenate two tuples.\n",
    "\n",
    "test_tup1 = (1, 3, 5)\n",
    "test_tup2 = (4, 6)\n",
    " \n",
    "# printing original tuples\n",
    "print(\"The original tuple 1 : \" + str(test_tup1))\n",
    "print(\"The original tuple 2 : \" + str(test_tup2))\n",
    " \n",
    "# Ways to concatenate tuples\n",
    "# using + operator\n",
    "res = test_tup1 + test_tup2\n",
    " \n",
    "# printing result\n",
    "print(\"The tuple after concatenation is : \" + str(res))"
   ]
  },
  {
   "cell_type": "code",
   "execution_count": 67,
   "id": "8ac68958-ed03-45b8-8c98-bc0783c24f6e",
   "metadata": {},
   "outputs": [
    {
     "name": "stdout",
     "output_type": "stream",
     "text": [
      "(10, 20, 30, 10, 20, 30, 10, 20, 30, 10, 20, 30, 10, 20, 30)\n"
     ]
    }
   ],
   "source": [
    "#  13. Repeat a tuple three times.\n",
    "\n",
    "num_tuple = (10, 20, 30) * 5\n",
    "print(num_tuple)"
   ]
  },
  {
   "cell_type": "code",
   "execution_count": 68,
   "id": "ed6dd978-22ed-4515-81d6-a4af1682f4e1",
   "metadata": {},
   "outputs": [
    {
     "name": "stdout",
     "output_type": "stream",
     "text": [
      "Mytuple is empty\n",
      "()\n"
     ]
    }
   ],
   "source": [
    "#  14. Check if a tuple is empty.\n",
    "\n",
    "Mytuple=()\n",
    "# Using not operator\n",
    "if not Mytuple:\n",
    "    print (\"Mytuple is empty\")\n",
    "else:\n",
    "    print (\"Mytuple is not empty\")\n",
    "# Printing the tuple\n",
    "print(Mytuple)"
   ]
  },
  {
   "cell_type": "code",
   "execution_count": 69,
   "id": "dc43d3a1-2ccd-458f-b20a-b740ae5ed6be",
   "metadata": {},
   "outputs": [
    {
     "name": "stdout",
     "output_type": "stream",
     "text": [
      "The original tuple 1 : ((3, 4),)\n",
      "The original tuple 2 : ((5, 6),)\n",
      "Tuples after Concatenating : ((3, 4), (5, 6))\n"
     ]
    }
   ],
   "source": [
    "#  15. Create a nested tuple.\n",
    "\n",
    "test_tup1 = (3, 4),\n",
    "test_tup2 = (5, 6),\n",
    " \n",
    "# printing original tuples\n",
    "print(\"The original tuple 1 : \" + str(test_tup1))\n",
    "print(\"The original tuple 2 : \" + str(test_tup2))\n",
    " \n",
    "# Concatenating tuples to nested tuples\n",
    "# using + operator + \", \" operator during initialization\n",
    "res = test_tup1 + test_tup2\n",
    " \n",
    "# printing result\n",
    "print(\"Tuples after Concatenating : \" + str(res))"
   ]
  },
  {
   "cell_type": "code",
   "execution_count": 70,
   "id": "b6883930-31b9-4b8e-b808-1fa77f29f51b",
   "metadata": {},
   "outputs": [
    {
     "name": "stdout",
     "output_type": "stream",
     "text": [
      "1\n",
      "2\n",
      "3\n",
      "4\n",
      "5\n"
     ]
    }
   ],
   "source": [
    "#  16. Access the first element of a nested tuple.\n",
    "\n",
    "data = [(1, 'sravan'), (2, 'ojaswi'),\n",
    "        (3, 'bobby'), (4, 'rohith'),\n",
    "        (5, 'gnanesh')]\n",
    " \n",
    "# iterate using for loop\n",
    "# to access first elements\n",
    "for i in data:\n",
    "    print(i[0])"
   ]
  },
  {
   "cell_type": "code",
   "execution_count": 72,
   "id": "43357539-40a2-4f8b-b4e7-21f9ef623d9d",
   "metadata": {},
   "outputs": [
    {
     "name": "stdout",
     "output_type": "stream",
     "text": [
      "apple\n",
      "<class 'str'>\n"
     ]
    }
   ],
   "source": [
    "#  17. Create a tuple with a single element.\n",
    "\n",
    "mytuple = (\"apple\")\n",
    "\n",
    "print(mytuple)\n",
    "print(type(mytuple))"
   ]
  },
  {
   "cell_type": "code",
   "execution_count": 73,
   "id": "494ce8bc-6e0d-4327-a84e-a42751829f26",
   "metadata": {},
   "outputs": [
    {
     "name": "stdout",
     "output_type": "stream",
     "text": [
      "The original tuple 1 : (10, 4, 5)\n",
      "The original tuple 2 : (13, 5, 18)\n",
      "Are all elements in second tuple greater than first ? : True\n"
     ]
    }
   ],
   "source": [
    "#  18. Compare two tuples.\n",
    "\n",
    "test_tup1 = (10, 4, 5)\n",
    "test_tup2 = (13, 5, 18)\n",
    " \n",
    "# printing original tuples\n",
    "print(\"The original tuple 1 : \" + str(test_tup1))\n",
    "print(\"The original tuple 2 : \" + str(test_tup2))\n",
    " \n",
    "# Comparing tuples\n",
    "# using generator expression + all() + zip()\n",
    "res = all(x < y for x, y in zip(test_tup1, test_tup2))\n",
    " \n",
    "# printing result\n",
    "print(\"Are all elements in second tuple greater than first ? : \" + str(res))"
   ]
  },
  {
   "cell_type": "code",
   "execution_count": 78,
   "id": "cffffa37-6691-4a9e-a7c2-dd6de5a2e860",
   "metadata": {},
   "outputs": [
    {
     "name": "stdout",
     "output_type": "stream",
     "text": [
      "The original tuple : (1, 5, 3, 6, 8)\n",
      "The tuple after clearing values : ()\n"
     ]
    }
   ],
   "source": [
    "#  19. Delete a tuple.\n",
    "\n",
    "test_tup = (1, 5, 3, 6, 8)\n",
    " \n",
    "# printing original tuple\n",
    "print(\"The original tuple : \" + str(test_tup))\n",
    " \n",
    "# Clearing a tuple\n",
    "# using Reinitialization + tuple()\n",
    "test_tup = tuple()\n",
    " \n",
    "# print result\n",
    "print(\"The tuple after clearing values : \" + str(test_tup))"
   ]
  },
  {
   "cell_type": "code",
   "execution_count": 79,
   "id": "8a6306c7-c737-437d-96b0-ffc7cbde0b16",
   "metadata": {},
   "outputs": [
    {
     "name": "stdout",
     "output_type": "stream",
     "text": [
      "('Spark', 'Python')\n",
      "('Spark', 'Python', 'Pandas')\n"
     ]
    }
   ],
   "source": [
    "#  20. Slice a tuple.\n",
    "\n",
    "# Slice a tuple with a specific end position\n",
    "tuples = ('Spark','Python','Pandas','Pyspark','Java','Hadoop')\n",
    "stop = 2\n",
    "slice1 = slice(stop)\n",
    "result = tuples[slice1]\n",
    "print(result)\n",
    "\n",
    "# Output\n",
    "# ('Spark', 'Python')\n",
    "\n",
    "# Slice from the beginning to index 3\n",
    "result = tuples[:3]\n",
    "print(result)\n"
   ]
  },
  {
   "cell_type": "code",
   "execution_count": 3,
   "id": "a54d5669-802e-46a4-8471-b7b53cda7f19",
   "metadata": {},
   "outputs": [
    {
     "name": "stdout",
     "output_type": "stream",
     "text": [
      "Maximum value is: 63\n"
     ]
    }
   ],
   "source": [
    "#  21. Find the maximum value in a tuple.\n",
    "\n",
    "t = (25, 17, 55, 63, 40)\n",
    " \n",
    "max_val = t[0]\n",
    " \n",
    "for i in range(len(t)):\n",
    "    if t[i] > max_val:\n",
    "        max_val = t[i]\n",
    " \n",
    "print(\"Maximum value is:\", max_val)"
   ]
  },
  {
   "cell_type": "code",
   "execution_count": 5,
   "id": "e5286ae1-565b-4bf3-82f6-283082f2d85c",
   "metadata": {},
   "outputs": [
    {
     "name": "stdout",
     "output_type": "stream",
     "text": [
      "Minimum : 1\n"
     ]
    }
   ],
   "source": [
    "#  22. Find the minimum value in a tuple.\n",
    "\n",
    "aTuple = (2, 5, 8, 1, 4, 3)\n",
    "result = min(aTuple)\n",
    "print('Minimum :', result)"
   ]
  },
  {
   "cell_type": "code",
   "execution_count": 11,
   "id": "aa85614b-b1e5-4511-94b9-38c22ab41f24",
   "metadata": {},
   "outputs": [
    {
     "name": "stdout",
     "output_type": "stream",
     "text": [
      "['g', 'e', 'e', 'k', 's']\n"
     ]
    }
   ],
   "source": [
    "#  23. Convert a string to a tuple of characters.\n",
    "\n",
    "string = \"geeks\"\n",
    "print([*string])"
   ]
  },
  {
   "cell_type": "code",
   "execution_count": 8,
   "id": "5a8cd2b3-8649-4e49-860e-b3fd163d31be",
   "metadata": {},
   "outputs": [
    {
     "name": "stdout",
     "output_type": "stream",
     "text": [
      "geeksforgeeks\n"
     ]
    }
   ],
   "source": [
    "#  24. Convert a tuple of characters to a string.\n",
    "\n",
    "def convert(s):\n",
    " \n",
    "    # initialization of string to \"\"\n",
    "    new = \"\"\n",
    " \n",
    "    # traverse in the string\n",
    "    for x in s:\n",
    "        new += x\n",
    " \n",
    "    # return string\n",
    "    return new\n",
    "     \n",
    "     \n",
    "# driver code\n",
    "s = ('g', 'e', 'e', 'k', 's', 'f', 'o', 'r', 'g', 'e', 'e', 'k', 's')\n",
    "print(convert(s))"
   ]
  },
  {
   "cell_type": "code",
   "execution_count": 12,
   "id": "58e7e495-87f9-4530-8fbf-c3389962bca5",
   "metadata": {},
   "outputs": [
    {
     "name": "stdout",
     "output_type": "stream",
     "text": [
      "('tuple', False, 3.2, 1)\n"
     ]
    }
   ],
   "source": [
    "#  25. Create a tuple from multiple data types.\n",
    "\n",
    "tuplex = (\"tuple\", False, 3.2, 1)\n",
    "print(tuplex)"
   ]
  },
  {
   "cell_type": "code",
   "execution_count": 15,
   "id": "ae9904fd-15d4-404c-9ac6-0fd09a1ef647",
   "metadata": {},
   "outputs": [
    {
     "name": "stdout",
     "output_type": "stream",
     "text": [
      "The first list of tuple is : \n",
      "[(11, 14), (54, 58)]\n",
      "The second list of tuple is : \n",
      "[(98, 0), (10, 13)]\n",
      "Are the list of tuples identical?\n",
      "False\n"
     ]
    }
   ],
   "source": [
    "#  26. Check if two tuples are identical. \n",
    "\n",
    "my_list_1 = [(11, 14), (54, 58)]\n",
    "my_list_2 = [(98, 0), (10, 13)]\n",
    "\n",
    "print(\"The first list of tuple is : \")\n",
    "print(my_list_1)\n",
    "print(\"The second list of tuple is : \")\n",
    "print(my_list_2)\n",
    "\n",
    "my_result = my_list_1 == my_list_2\n",
    "\n",
    "print(\"Are the list of tuples identical?\")\n",
    "print(my_result)\n"
   ]
  },
  {
   "cell_type": "code",
   "execution_count": 16,
   "id": "96186eb4-81ba-4cec-a065-a30d7ac7455f",
   "metadata": {},
   "outputs": [
    {
     "name": "stdout",
     "output_type": "stream",
     "text": [
      "Sorted Tuple : (1, 2, 3, 5, 6, 7, 24)\n",
      "<class 'tuple'>\n"
     ]
    }
   ],
   "source": [
    "#  27. Sort the elements of a tuple.\n",
    "\n",
    "tuple_ = (5, 2, 24, 3, 1, 6, 7)  \n",
    "sorted_ = tuple(sorted(tuple_))  \n",
    "print('Sorted Tuple :', sorted_)  \n",
    "print(type(sorted_))  "
   ]
  },
  {
   "cell_type": "code",
   "execution_count": 17,
   "id": "ebef7711-7a4e-4278-9264-8a9f219a62dc",
   "metadata": {},
   "outputs": [
    {
     "name": "stdout",
     "output_type": "stream",
     "text": [
      "Original tuple values:\n",
      "(('333', '33'), ('1416', '55'))\n",
      "\n",
      "New tuple values:\n",
      "((333, 33), (1416, 55))\n"
     ]
    }
   ],
   "source": [
    "#  28. Convert a tuple of integers to a tuple of strings.\n",
    "\n",
    "def tuple_int_str(tuple_str):\n",
    "    result = tuple((int(x[0]), int(x[1])) for x in tuple_str)\n",
    "    return result\n",
    "     \n",
    "tuple_str =  (('333', '33'), ('1416', '55'))\n",
    "print(\"Original tuple values:\")\n",
    "print(tuple_str)\n",
    "print(\"\\nNew tuple values:\")\n",
    "print(tuple_int_str(tuple_str))\n"
   ]
  },
  {
   "cell_type": "code",
   "execution_count": 19,
   "id": "f948ebb6-0c4e-425b-a6b5-88ee8b3d087a",
   "metadata": {},
   "outputs": [
    {
     "name": "stdout",
     "output_type": "stream",
     "text": [
      "The original string is : (7, 8, 9)\n",
      "The tuple after conversion is : (7, 8, 9)\n"
     ]
    }
   ],
   "source": [
    "#  29. Convert a tuple of strings to a tuple of integers.\n",
    "\n",
    "test_str = \"(7, 8, 9)\"\n",
    " \n",
    "# printing original string\n",
    "print(\"The original string is : \" + test_str)\n",
    " \n",
    "# Convert Tuple String to Integer Tuple\n",
    "# Using eval()\n",
    "res = eval(test_str)\n",
    " \n",
    "# printing result\n",
    "print(\"The tuple after conversion is : \" + str(res))"
   ]
  },
  {
   "cell_type": "code",
   "execution_count": 20,
   "id": "8a53eddb-6289-4257-a430-8796b9a04243",
   "metadata": {},
   "outputs": [
    {
     "name": "stdout",
     "output_type": "stream",
     "text": [
      "('a', 'b', 'c', 1, 2, 3)\n"
     ]
    }
   ],
   "source": [
    "#  30. Merge two tuples.\n",
    "\n",
    "tuple1 = (\"a\", \"b\" , \"c\")\n",
    "tuple2 = (1, 2, 3)\n",
    "\n",
    "tuple3 = tuple1 + tuple2\n",
    "print(tuple3)"
   ]
  },
  {
   "cell_type": "code",
   "execution_count": 21,
   "id": "f7fad432-28d5-4ef9-bec5-981e5d446b47",
   "metadata": {},
   "outputs": [
    {
     "name": "stdout",
     "output_type": "stream",
     "text": [
      "The original tuple : ((4, 5), ((4, 7), (8, 9), (10, 11)), ((9, 10), (3, 4)))\n",
      "The flattened tuple : (4, 5, 4, 7, 8, 9, 10, 11, 9, 10, 3, 4)\n"
     ]
    }
   ],
   "source": [
    "#  31. Flatten a nested tuple.\n",
    "\n",
    "def flatten_tuples(t):\n",
    "    for x in t:\n",
    "        if isinstance(x, tuple):\n",
    "            yield from flatten_tuples(x)\n",
    "        else:\n",
    "            yield x\n",
    " \n",
    "# initializing tuple\n",
    "test_tuple = ((4, 5), ((4, 7), (8, 9), (10, 11)), (((9, 10), (3, 4))))\n",
    " \n",
    "# printing original tuple\n",
    "print(\"The original tuple : \" + str(test_tuple))\n",
    " \n",
    "# Flatten Nested Tuples\n",
    "# Using generator function\n",
    "res = tuple(flatten_tuples(test_tuple))\n",
    " \n",
    "# printing result\n",
    "print(\"The flattened tuple : \" + str(res))"
   ]
  },
  {
   "cell_type": "code",
   "execution_count": 26,
   "id": "05ea00cc-1665-467c-885c-c1a82b5a7242",
   "metadata": {},
   "outputs": [
    {
     "name": "stdout",
     "output_type": "stream",
     "text": [
      "[2, 3, 5, 7, 11, 13, 17, 19, 23, 29, 31, 37, 41, 43, 47]\n"
     ]
    }
   ],
   "source": [
    "#  32. Create a tuple of the first 5 prime numbers.\n",
    "\n",
    "def prime_numbers(n):\n",
    "    primes = []\n",
    "    for i in range(2, n + 1):\n",
    "        for j in range(2, int(i ** 0.5) + 1):\n",
    "            if i%j == 0:\n",
    "                break\n",
    "        else:\n",
    "            primes.append(i)\n",
    "    return primes\n",
    "\n",
    "prime_list = prime_numbers(50)\n",
    "print(prime_list)"
   ]
  },
  {
   "cell_type": "code",
   "execution_count": 30,
   "id": "d751c1dd-8e28-4d1d-b3b4-17e49acc26f4",
   "metadata": {},
   "outputs": [
    {
     "name": "stdout",
     "output_type": "stream",
     "text": [
      "String is a palindrome\n"
     ]
    }
   ],
   "source": [
    "##  33. Check if a tuple is a palindrome.\n",
    "\n",
    "s1='madam'\n",
    "s2=s1[::-1]\n",
    "if s1==s2:\n",
    "    print('String is a palindrome')\n",
    "else:\n",
    "    print('string is not a palindrome')"
   ]
  },
  {
   "cell_type": "code",
   "execution_count": 32,
   "id": "7bbbb114-8ea2-4f4f-b1be-898f0e2160d1",
   "metadata": {},
   "outputs": [
    {
     "name": "stdout",
     "output_type": "stream",
     "text": [
      "The square of integers from 1 to 50 is: (1, 4, 9, 16)\n"
     ]
    }
   ],
   "source": [
    "#  34. Create a tuple of squares of numbers from 1 to 5.\n",
    "\n",
    "tup = ()\n",
    "for i in range(1,5):\n",
    "    tup = tup + (i**2,)\n",
    "print(\"The square of integers from 1 to 50 is:\" ,tup)"
   ]
  },
  {
   "cell_type": "code",
   "execution_count": 33,
   "id": "a62eb151-f703-4ccc-8bcf-a141a85a2ec0",
   "metadata": {},
   "outputs": [
    {
     "name": "stdout",
     "output_type": "stream",
     "text": [
      "The original list is : [(6, 4, 2, 8), (5, 6, 7, 6), (8, 0, 2), (7,)]\n",
      "Filtered Tuples : [(6, 4, 2, 8), (8, 0, 2)]\n"
     ]
    }
   ],
   "source": [
    "#  35. Filter out all even numbers from a tuple.\n",
    "\n",
    "test_list = [(6, 4, 2, 8), (5, 6, 7, 6), (8, 0, 2), (7, )]\n",
    " \n",
    "# printing original list\n",
    "print(\"The original list is : \" + str(test_list))\n",
    " \n",
    "# use heapq to filter tuples with all even elements\n",
    "res_list = list(filter(lambda t: all(x % 2 == 0 for x in t), test_list))\n",
    " \n",
    "# print results\n",
    "print(\"Filtered Tuples : \" + str(res_list))\n",
    "#This code is contrinuted by Jyothi pinjala."
   ]
  },
  {
   "cell_type": "code",
   "execution_count": 36,
   "id": "9222d5a5-26b8-4ca7-901c-5641b36f6b18",
   "metadata": {},
   "outputs": [
    {
     "name": "stdout",
     "output_type": "stream",
     "text": [
      "120\n"
     ]
    }
   ],
   "source": [
    "#  36. Multiply all elements in a tuple by 2.\n",
    "\n",
    "def multiply_tuple_elements(tuple):\n",
    "    result = 1\n",
    "    for item in tuple:\n",
    "        result *= item\n",
    "    return result\n",
    "\n",
    "my_tuple = (2, 3, 4, 5)\n",
    "print(multiply_tuple_elements(my_tuple))"
   ]
  },
  {
   "cell_type": "code",
   "execution_count": 38,
   "id": "fdaf0b30-4b30-4e5c-9822-56acb4a60571",
   "metadata": {},
   "outputs": [
    {
     "name": "stdout",
     "output_type": "stream",
     "text": [
      "[(5, 4), (6, 2), (1, 6), (1, 6)]\n"
     ]
    }
   ],
   "source": [
    "#  37. Create a tuple of random numbers.\n",
    "\n",
    "import random\n",
    " \n",
    "N = 4\n",
    "R = 6\n",
    " \n",
    "generate_tuples = lambda N, R: [(random.randint(0, R), random.randint(0, R)) for _ in range(N)]\n",
    " \n",
    "output = generate_tuples(N, R)\n",
    "print(output)"
   ]
  },
  {
   "cell_type": "code",
   "execution_count": 39,
   "id": "3da2b3b6-9dcf-4c44-8305-7f400fdb9e9e",
   "metadata": {},
   "outputs": [
    {
     "name": "stdout",
     "output_type": "stream",
     "text": [
      "True\n"
     ]
    }
   ],
   "source": [
    "#  38. Check if a tuple is sorted.\n",
    "\n",
    "\n",
    "def is_tuple_sorted(t):\n",
    "    for i in range(1, len(t)):\n",
    "        # return False if the element is smaller than the previous element\n",
    "        if t[i] < t[i-1]:\n",
    "            return False\n",
    "    return True\n",
    "# create a tuple\n",
    "t = (1, 2, 3, 4, 5)\n",
    "# check if tuple is sorted\n",
    "print(is_tuple_sorted(t))\n"
   ]
  },
  {
   "cell_type": "code",
   "execution_count": 40,
   "id": "7311b4b9-d639-490e-a4d1-8200087619ff",
   "metadata": {},
   "outputs": [
    {
     "name": "stdout",
     "output_type": "stream",
     "text": [
      "Original list: [1, 4, 6, 7, 2]\n",
      "List after left rotate by 3: [7 2 1 4 6]\n",
      "List after right rotate by 3 (back to original): [1 4 6 7 2]\n"
     ]
    }
   ],
   "source": [
    "#  39. Rotate a tuple to the left by `n` positions.\n",
    "\n",
    "import numpy as np\n",
    " \n",
    "def rotate_left(arr, n):\n",
    "    return np.concatenate((arr[n:], arr[:n]))\n",
    " \n",
    "def rotate_right(arr, n):\n",
    "    return np.concatenate((arr[-n:], arr[:-n]))\n",
    " \n",
    "# Example usage\n",
    "original_list = [1, 4, 6, 7, 2]\n",
    "print(\"Original list:\", original_list)\n",
    " \n",
    "rotated_left = rotate_left(original_list, 3)\n",
    "print(\"List after left rotate by 3:\", rotated_left)\n",
    " \n",
    "rotated_right = rotate_right(rotated_left, 3)\n",
    "print(\"List after right rotate by 3 (back to original):\", rotated_right)"
   ]
  },
  {
   "cell_type": "code",
   "execution_count": 41,
   "id": "6f50b9d3-1a76-4753-a131-3b5a4ad3cc53",
   "metadata": {},
   "outputs": [
    {
     "name": "stdout",
     "output_type": "stream",
     "text": [
      "[4, 5, 6, 1, 2, 3]\n"
     ]
    }
   ],
   "source": [
    "#  40. Rotate a tuple to the right by `n` positions.\n",
    "\n",
    "def rightRotate(lists, num):\n",
    "    output_list = []\n",
    " \n",
    "    # Will add values from n to the new list\n",
    "    for item in range(len(lists) - num, len(lists)):\n",
    "        output_list.append(lists[item])\n",
    " \n",
    "    # Will add the values before\n",
    "    # n to the end of new list\n",
    "    for item in range(0, len(lists) - num):\n",
    "        output_list.append(lists[item])\n",
    " \n",
    "    return output_list\n",
    " \n",
    " \n",
    "# Driver Code\n",
    "rotate_num = 3\n",
    "list_1 = [1, 2, 3, 4, 5, 6]\n",
    " \n",
    "print(rightRotate(list_1, rotate_num))"
   ]
  },
  {
   "cell_type": "code",
   "execution_count": 44,
   "id": "ea01c3ce-941f-4802-911c-822897db2711",
   "metadata": {},
   "outputs": [
    {
     "name": "stdout",
     "output_type": "stream",
     "text": [
      "terms of Fibonacci series are: (0, 1, 1, 2, 3, 5, 8)\n"
     ]
    }
   ],
   "source": [
    "#  41. Create a tuple of the first 5 Fibonacci numbers.\n",
    "\n",
    "lst = [0,1]\n",
    "a = 0\n",
    "b = 1\n",
    "c = 0\n",
    "\n",
    "for i in range(5):\n",
    "    c = a + b\n",
    "    a = b\n",
    "    b = c\n",
    "    lst.append(c)\n",
    "\n",
    "tup = tuple(lst)\n",
    "\n",
    "print(\"terms of Fibonacci series are:\", tup)"
   ]
  },
  {
   "cell_type": "code",
   "execution_count": 45,
   "id": "acd583fd-0cd6-43e4-9bb5-028d75ac2806",
   "metadata": {},
   "outputs": [
    {
     "name": "stdin",
     "output_type": "stream",
     "text": [
      "Enter space-separated words:  Hello How are you\n"
     ]
    },
    {
     "name": "stdout",
     "output_type": "stream",
     "text": [
      "('Hello', 'How', 'are', 'you')\n"
     ]
    }
   ],
   "source": [
    "#  42. Create a tuple from user input.\n",
    "\n",
    "my_tuple = tuple(input('Enter space-separated words: ').split())\n",
    "\n",
    "print(my_tuple)"
   ]
  },
  {
   "cell_type": "code",
   "execution_count": 46,
   "id": "b127bad4-5cbf-470e-b4d1-4790e4d80761",
   "metadata": {},
   "outputs": [
    {
     "name": "stdout",
     "output_type": "stream",
     "text": [
      "The original list is : [(3, 4), (6, 5), (7, 8)]\n",
      "The swapped tuple list is : [(4, 3), (5, 6), (8, 7)]\n"
     ]
    }
   ],
   "source": [
    "#  43. Swap two elements in a tuple.\n",
    "\n",
    "test_list = [(3, 4), (6, 5), (7, 8)]\n",
    " \n",
    "# printing original list\n",
    "print(\"The original list is : \" + str(test_list))\n",
    " \n",
    "# Swap tuple elements in list of tuples\n",
    "# Using list comprehension\n",
    "res = [(sub[1], sub[0]) for sub in test_list]\n",
    "         \n",
    "# printing result\n",
    "print(\"The swapped tuple list is : \" + str(res))"
   ]
  },
  {
   "cell_type": "code",
   "execution_count": 47,
   "id": "aecd87b0-d6e7-46bd-892e-3923b7328c1f",
   "metadata": {},
   "outputs": [
    {
     "name": "stdout",
     "output_type": "stream",
     "text": [
      "('k', 'e', 'e', 'g', 'f', 'd', 'a', 'z')\n"
     ]
    }
   ],
   "source": [
    "#  44. Reverse the elements of a tuple.\n",
    "\n",
    "def Reverse(tuples):\n",
    "    new_tup = tuples[::-1]\n",
    "    return new_tup\n",
    "     \n",
    "# Driver Code\n",
    "tuples = ('z','a','d','f','g','e','e','k')\n",
    "print(Reverse(tuples))"
   ]
  },
  {
   "cell_type": "code",
   "execution_count": 61,
   "id": "badd3876-2ba2-46bd-823e-cc2ebc32a9fb",
   "metadata": {},
   "outputs": [
    {
     "data": {
      "text/plain": [
       "(1, 4, 9, 16)"
      ]
     },
     "execution_count": 61,
     "metadata": {},
     "output_type": "execute_result"
    }
   ],
   "source": [
    "#  45. Create a tuple of the first `n` powers of 2.\n",
    "\n",
    "x = (1, 2, 3, 4)\n",
    "\n",
    "def power(n):\n",
    "    return n * n\n",
    "\n",
    "tuple(map(power, x))\n"
   ]
  },
  {
   "cell_type": "code",
   "execution_count": 66,
   "id": "4970493f-0345-4ec6-9e03-c447b413915f",
   "metadata": {},
   "outputs": [
    {
     "name": "stdout",
     "output_type": "stream",
     "text": [
      "Longest string is : geeks\n"
     ]
    }
   ],
   "source": [
    "#  46. Find the longest string in a tuple of strings.\n",
    "\n",
    "test_list = ('gfg', 'is', 'best', 'for', 'geeks')\n",
    " \n",
    "# create a new list of string lengths using a list comprehension\n",
    "lengths = [len(s) for s in test_list]\n",
    " \n",
    "# find the index of the longest string in the original list\n",
    "longest_index = lengths.index(max(lengths))\n",
    " \n",
    "# use the index to get the longest string from the original list\n",
    "longest_string = test_list[longest_index]\n",
    " \n",
    "# print the longest string\n",
    "print(\"Longest string is : \" + longest_string)"
   ]
  },
  {
   "cell_type": "code",
   "execution_count": 65,
   "id": "e80b0943-3954-407d-afa5-4e13c6c14c3b",
   "metadata": {},
   "outputs": [
    {
     "name": "stdout",
     "output_type": "stream",
     "text": [
      "The original list : ('gfg', 'is', 'best', 'for', 'geeks')\n",
      "Maximum length string is : geeks\n"
     ]
    }
   ],
   "source": [
    "#  47. Find the shortest string in a tuple of strings.\n",
    "\n",
    "test_tuple = ('gfg', 'is', 'best', 'for', 'geeks')\n",
    " \n",
    "# printing original list\n",
    "print(\"The original list : \" + str(test_tuple))\n",
    " \n",
    "# Longest String in list\n",
    "# using loop\n",
    "max_len = -1\n",
    "for ele in test_tuple:\n",
    "    if len(ele) > max_len:\n",
    "        max_len = len(ele)\n",
    "        res = ele\n",
    " \n",
    "# printing result\n",
    "print(\"Maximum length string is : \" + res)"
   ]
  },
  {
   "cell_type": "code",
   "execution_count": 68,
   "id": "7b0cede7-53d7-44eb-abed-39902e3fe0d1",
   "metadata": {},
   "outputs": [
    {
     "name": "stdout",
     "output_type": "stream",
     "text": [
      "The number is a triangular number\n"
     ]
    }
   ],
   "source": [
    "#  48. Create a tuple of the first `n` triangular numbers.\n",
    "\n",
    "def isTriangular(num):\n",
    " \n",
    "    # Base case\n",
    "    if (num < 0):\n",
    "        return False\n",
    " \n",
    "    # A Triangular number must be\n",
    "    # sum of first n natural numbers\n",
    "    sum, n = 0, 1\n",
    " \n",
    "    while(sum <= num):\n",
    "     \n",
    "        sum = sum + n\n",
    "        if (sum == num):\n",
    "            return True\n",
    "        n += 1\n",
    " \n",
    "    return False\n",
    " \n",
    "# Driver code\n",
    "n = 55\n",
    "if (isTriangular(n)):\n",
    "    print(\"The number is a triangular number\")\n",
    "else:\n",
    "    print(\"The number is NOT a triangular number\")\n",
    " \n",
    "# This code is contributed by Smitha Dinesh Semwal."
   ]
  },
  {
   "cell_type": "code",
   "execution_count": 69,
   "id": "64019adb-ff2e-4ec3-9811-d679af5068dd",
   "metadata": {},
   "outputs": [
    {
     "name": "stdout",
     "output_type": "stream",
     "text": [
      "The first tuple is :\n",
      "(87, 90, 31, 85)\n",
      "The second tuple is :\n",
      "(34, 56, 12, 5)\n",
      "Is the second tuple a subset of the first tuple ? \n",
      "False\n"
     ]
    }
   ],
   "source": [
    "#  49. Check if a tuple contains another tuple as a subsequence.\n",
    "\n",
    "my_tuple_1 = (87, 90, 31, 85)\n",
    "my_tuple_2 = (34, 56, 12, 5)\n",
    "\n",
    "print(\"The first tuple is :\")\n",
    "print(my_tuple_1)\n",
    "print(\"The second tuple is :\")\n",
    "print(my_tuple_2)\n",
    "\n",
    "my_result = set(my_tuple_2).issubset(my_tuple_1)\n",
    "\n",
    "print(\"Is the second tuple a subset of the first tuple ? \")\n",
    "print(my_result)"
   ]
  },
  {
   "cell_type": "code",
   "execution_count": 70,
   "id": "a7350b95-fb4e-4b06-b72a-e40bf04ae723",
   "metadata": {},
   "outputs": [
    {
     "name": "stdout",
     "output_type": "stream",
     "text": [
      "The original tuple : (5, 6, 3, 6, 10, 34)\n",
      "The alternate chain sum 1 : 46\n",
      "The alternate chain sum 2 : 18\n"
     ]
    }
   ],
   "source": [
    "#  50. Create a tuple of alternating 1s and 0s of length `n`.\n",
    "\n",
    "test_tuple = (5, 6, 3, 6, 10, 34)\n",
    " \n",
    "# printing original tuple\n",
    "print(\"The original tuple : \" + str(test_tuple))\n",
    " \n",
    "# Alternate Elements operation on Tuple\n",
    "# Using loop + enumerate()\n",
    "sum1 = 0\n",
    "sum2 = 0\n",
    "for idx, ele in enumerate(test_tuple):\n",
    "    if idx % 2:\n",
    "        sum1 += ele\n",
    "    else:\n",
    "        sum2 += ele\n",
    " \n",
    "# printing result\n",
    "print(\"The alternate chain sum 1 : \" + str(sum1))\n",
    "print(\"The alternate chain sum 2 : \" + str(sum2))"
   ]
  },
  {
   "cell_type": "code",
   "execution_count": null,
   "id": "58da2e78-535e-4ec1-b40b-7b90c626e946",
   "metadata": {},
   "outputs": [],
   "source": []
  },
  {
   "cell_type": "code",
   "execution_count": 1,
   "id": "17cb10f8-243c-4be9-8763-da362440da79",
   "metadata": {},
   "outputs": [
    {
     "name": "stdout",
     "output_type": "stream",
     "text": [
      "{0, 1, 2, 3, 4, 5}\n"
     ]
    }
   ],
   "source": [
    "#  Set Based Practice Problem :\n",
    "\n",
    "#  1. Create a set with integers from 1 to 5.\n",
    "\n",
    "x=set(range(0,6))\n",
    "print(x)"
   ]
  },
  {
   "cell_type": "code",
   "execution_count": 4,
   "id": "cb5c7851-940c-4f23-925d-cd9923b2fbd6",
   "metadata": {},
   "outputs": [
    {
     "name": "stdout",
     "output_type": "stream",
     "text": [
      "Updated set after adding elements:  {1, 2, 3, 4, 5, 6, 7, 8}\n"
     ]
    }
   ],
   "source": [
    "#  2. Add an element to a set.\n",
    "\n",
    "set1 = {1, 2, 3, 4, 5}\n",
    "\n",
    "# a list of numbers to add\n",
    "list_to_add = [6, 7, 8]\n",
    "\n",
    "# add all elements of list to the set\n",
    "set1.update(list_to_add)\n",
    "\n",
    "print('Updated set after adding elements: ', set1)"
   ]
  },
  {
   "cell_type": "code",
   "execution_count": 5,
   "id": "70bdc2ab-a471-4bfb-af5a-1f411e0d57df",
   "metadata": {},
   "outputs": [
    {
     "name": "stdout",
     "output_type": "stream",
     "text": [
      "{'cherry', 'apple'}\n"
     ]
    }
   ],
   "source": [
    "#  3. Remove an element from a set.\n",
    "\n",
    "fruits = {\"apple\", \"banana\", \"cherry\"}\n",
    "\n",
    "fruits.remove(\"banana\")\n",
    "\n",
    "print(fruits)"
   ]
  },
  {
   "cell_type": "code",
   "execution_count": 6,
   "id": "f525f254-e121-4c34-9abf-56a7f53ea99c",
   "metadata": {},
   "outputs": [
    {
     "name": "stdout",
     "output_type": "stream",
     "text": [
      "Yes, 'apple' is in this set\n"
     ]
    }
   ],
   "source": [
    "#  4. Check if an element exists in a set.\n",
    "\n",
    "thisset = {\"apple\", \"banana\", \"cherry\"}\n",
    "\n",
    "if \"apple\" in thisset:\n",
    "  print(\"Yes, 'apple' is in this set\")"
   ]
  },
  {
   "cell_type": "code",
   "execution_count": 7,
   "id": "0407848c-3140-481c-80b5-64421d8696cb",
   "metadata": {},
   "outputs": [
    {
     "name": "stdout",
     "output_type": "stream",
     "text": [
      "5\n"
     ]
    }
   ],
   "source": [
    "#  5. Find the length of a set without using the `len()` function.\n",
    "\n",
    "string = 'Hello'\n",
    "\n",
    "count = 0\n",
    "\n",
    "for i in string:\n",
    " \n",
    "    count+=1\n",
    "print(count)\n"
   ]
  },
  {
   "cell_type": "code",
   "execution_count": 8,
   "id": "d95749e2-624e-4ebe-a3f0-8332e3821038",
   "metadata": {},
   "outputs": [
    {
     "name": "stdout",
     "output_type": "stream",
     "text": [
      "set()\n"
     ]
    }
   ],
   "source": [
    "#  6. Clear all elements from a set.\n",
    "\n",
    "# set of prime numbers\n",
    "primeNumbers = {2, 3, 5, 7}\n",
    "\n",
    "# clear all elements\n",
    "primeNumbers.clear()\n",
    "\n",
    "print(primeNumbers)\n",
    "\n",
    "# set() "
   ]
  },
  {
   "cell_type": "code",
   "execution_count": 15,
   "id": "b0629962-3f06-41c3-976b-eb674e7dab5c",
   "metadata": {},
   "outputs": [
    {
     "name": "stdout",
     "output_type": "stream",
     "text": [
      "2 4 6 8 10 "
     ]
    }
   ],
   "source": [
    "#  7. Create a set of even numbers from 1 to 10.\n",
    "\n",
    "list1 = {1,2,3,4,5,6,7,8,9,10}\n",
    " \n",
    "# iterating each number in list\n",
    "for num in list1:\n",
    " \n",
    "    # checking condition\n",
    "    if num % 2 == 0:\n",
    "        print(num, end=\" \")"
   ]
  },
  {
   "cell_type": "code",
   "execution_count": 16,
   "id": "a7be1966-152a-40e9-8283-38d8d3fea8e8",
   "metadata": {},
   "outputs": [
    {
     "name": "stdout",
     "output_type": "stream",
     "text": [
      "1 3 5 7 9 "
     ]
    }
   ],
   "source": [
    "#  8. Create a set of odd numbers from 1 to 10.\n",
    "\n",
    "start, end = 1, 10\n",
    " \n",
    "# iterating each number in list\n",
    "for num in range(start, end + 1):\n",
    "     \n",
    "    # checking condition\n",
    "    if num % 2 != 0:\n",
    "        print(num, end = \" \")"
   ]
  },
  {
   "cell_type": "code",
   "execution_count": 17,
   "id": "59e7caf6-182c-4552-a22a-6d7f5ae86ef2",
   "metadata": {},
   "outputs": [
    {
     "name": "stdout",
     "output_type": "stream",
     "text": [
      "{'C#', 'Java', 'Python'}\n"
     ]
    }
   ],
   "source": [
    "#  9. Find the union of two sets.\n",
    "\n",
    "s1 = {'Python', 'Java'}\n",
    "s2 = {'C#', 'Java'}\n",
    "\n",
    "s = s1.union(s2)\n",
    "\n",
    "print(s)"
   ]
  },
  {
   "cell_type": "code",
   "execution_count": 18,
   "id": "335fb87f-01af-4df4-bdbe-52432dd5d67d",
   "metadata": {},
   "outputs": [
    {
     "name": "stdout",
     "output_type": "stream",
     "text": [
      "{'apple'}\n"
     ]
    }
   ],
   "source": [
    "#  10. Find the intersection of two sets.\n",
    "\n",
    "x = {\"apple\", \"banana\", \"cherry\"}\n",
    "y = {\"google\", \"microsoft\", \"apple\"}\n",
    "\n",
    "z = x.intersection(y)\n",
    "\n",
    "print(z)"
   ]
  },
  {
   "cell_type": "code",
   "execution_count": 19,
   "id": "5835f47a-f0c8-4048-9063-a26c38185156",
   "metadata": {},
   "outputs": [
    {
     "name": "stdout",
     "output_type": "stream",
     "text": [
      "{10, 20}\n",
      "{100, 60}\n"
     ]
    }
   ],
   "source": [
    "#  11. Find the difference between two sets.\n",
    "\n",
    "A = {10, 20, 30, 40, 80}\n",
    "B = {100, 30, 80, 40, 60}\n",
    "print (A.difference(B))\n",
    "print (B.difference(A))"
   ]
  },
  {
   "cell_type": "code",
   "execution_count": 20,
   "id": "4fa25554-cd87-46c3-83bf-284d12f7de7a",
   "metadata": {},
   "outputs": [
    {
     "name": "stdout",
     "output_type": "stream",
     "text": [
      "True\n"
     ]
    }
   ],
   "source": [
    "#  12. Check if a set is a subset of another set.\n",
    "\n",
    "A = {1, 2, 3}\n",
    "B = {1, 2, 3, 4, 5}\n",
    "\n",
    "# all items of A are present in B\n",
    "print(A.issubset(B))"
   ]
  },
  {
   "cell_type": "code",
   "execution_count": 21,
   "id": "f0377398-55cf-4342-98ff-da68572bf931",
   "metadata": {},
   "outputs": [
    {
     "name": "stdout",
     "output_type": "stream",
     "text": [
      "False\n",
      "False\n"
     ]
    }
   ],
   "source": [
    "#  13. Check if a set is a superset of another set.\n",
    "\n",
    "A = {10, 20, 30, 40, 80}\n",
    "B = {100, 30, 80, 40, 60}\n",
    "print (A.issuperset(B))\n",
    "print (B.issuperset(A))"
   ]
  },
  {
   "cell_type": "code",
   "execution_count": 23,
   "id": "60b24f98-58c6-4004-8a95-e6063bb4491c",
   "metadata": {},
   "outputs": [
    {
     "name": "stdout",
     "output_type": "stream",
     "text": [
      "{1, 2, 3, 4, 5, 6}\n"
     ]
    }
   ],
   "source": [
    "#  14. Create a set from a list.\n",
    "\n",
    "my_set = {s for s in [1, 2, 3, 3, 4, 4, 5, 6, 6]}\n",
    "print(my_set)"
   ]
  },
  {
   "cell_type": "code",
   "execution_count": 24,
   "id": "d17d6813-f7ea-4c24-ac58-f1c68949d539",
   "metadata": {},
   "outputs": [
    {
     "name": "stdout",
     "output_type": "stream",
     "text": [
      "<class 'set'>\n",
      "<class 'list'>\n"
     ]
    }
   ],
   "source": [
    "#  15. Convert a set to a list.\n",
    "\n",
    "# set into a list\n",
    "my_set = {'Geeks', 'for', 'geeks'}\n",
    "print(type(my_set))\n",
    " \n",
    "s = list(my_set)\n",
    "print(type(s))"
   ]
  },
  {
   "cell_type": "code",
   "execution_count": 25,
   "id": "a7c46c18-1e95-4dbf-a6e4-a33238ee5919",
   "metadata": {},
   "outputs": [
    {
     "name": "stdout",
     "output_type": "stream",
     "text": [
      "{41, 10, 54, 26}\n"
     ]
    }
   ],
   "source": [
    "#  16. Remove a random element from a set.\n",
    "\n",
    "def Remove(sets):\n",
    "    sets.discard(20)\n",
    "    print (sets)\n",
    "      \n",
    "# Driver Code\n",
    "sets = set([10, 20, 26, 41, 54, 20])\n",
    "Remove(sets)"
   ]
  },
  {
   "cell_type": "code",
   "execution_count": 26,
   "id": "0e001d70-b885-4c5f-8e6b-89b7024cb47c",
   "metadata": {},
   "outputs": [
    {
     "name": "stdout",
     "output_type": "stream",
     "text": [
      "{'apple', 'banana'}\n"
     ]
    }
   ],
   "source": [
    "#  17. Pop an element from a set.\n",
    "\n",
    "fruits = {\"apple\", \"banana\", \"cherry\"}\n",
    "\n",
    "fruits.pop()\n",
    "\n",
    "print(fruits)"
   ]
  },
  {
   "cell_type": "code",
   "execution_count": 28,
   "id": "3a3a2edf-0586-439c-9a34-fbdc0307d4e2",
   "metadata": {},
   "outputs": [
    {
     "name": "stdout",
     "output_type": "stream",
     "text": [
      "True\n",
      "False\n"
     ]
    }
   ],
   "source": [
    "#  18. Check if two sets have no elements in common.\n",
    "\n",
    "def common_member(a, b):\n",
    "    a_set = set(a)\n",
    "    b_set = set(b)\n",
    "    if len(a_set.intersection(b_set)) > 0:\n",
    "        return(True)\n",
    "    return(False)  \n",
    " \n",
    "a = {1, 2, 3, 4, 5}\n",
    "b = {5, 6, 7, 8, 9}\n",
    "print(common_member(a, b))\n",
    " \n",
    "a ={1, 2, 3, 4, 5}\n",
    "b ={6, 7, 8, 9}\n",
    "print(common_member(a, b))"
   ]
  },
  {
   "cell_type": "code",
   "execution_count": 29,
   "id": "67a7ef2b-b12d-4d3f-a1a7-22086c9e2577",
   "metadata": {},
   "outputs": [
    {
     "name": "stdout",
     "output_type": "stream",
     "text": [
      "{1, 2, 5, 6, 7, 9}\n"
     ]
    }
   ],
   "source": [
    "# 19. Find the symmetric difference between two sets.\n",
    "\n",
    "set_A = {1, 2, 3, 4, 5}\n",
    "set_B = {6, 7, 3, 9, 4}\n",
    "print(set_A.symmetric_difference(set_B))"
   ]
  },
  {
   "cell_type": "code",
   "execution_count": 30,
   "id": "f7dccf93-8d99-47d6-8e27-c33b520ea462",
   "metadata": {},
   "outputs": [
    {
     "name": "stdout",
     "output_type": "stream",
     "text": [
      "{1, 2, 3, 5, 6, 7}\n"
     ]
    }
   ],
   "source": [
    "#  20. Update a set with elements from another set.\n",
    "\n",
    "list1 = [1, 2, 3]\n",
    "list2 = [5, 6, 7]\n",
    "list3 = [10, 11, 12]\n",
    " \n",
    "# Lists converted to sets\n",
    "set1 = set(list2)\n",
    "set2 = set(list1)\n",
    " \n",
    "# Update method\n",
    "set1.update(set2)\n",
    " \n",
    "# Print the updated set\n",
    "print(set1)"
   ]
  },
  {
   "cell_type": "code",
   "execution_count": 32,
   "id": "5617e601-5258-4c15-ba82-fc54f78ee8b3",
   "metadata": {},
   "outputs": [
    {
     "name": "stdout",
     "output_type": "stream",
     "text": [
      "2, 3, 5, 7, 11, "
     ]
    }
   ],
   "source": [
    "#  21. Create a set of the first 5 prime numbers.\n",
    "\n",
    "n=1\n",
    "i=2\n",
    "while ( n <= 5): # change this value for more numbers\n",
    "    b=0\n",
    "    for j in range(2,int(i/2)+1):\n",
    "        if(i%j==0):\n",
    "            b=1\n",
    "            break  \n",
    "    if(b==0):\n",
    "        print(i,end=', ')\n",
    "        n=n+1\n",
    "    i=i+1"
   ]
  },
  {
   "cell_type": "code",
   "execution_count": 33,
   "id": "1ae097c1-39c5-4140-9aa9-9559c9ae500e",
   "metadata": {},
   "outputs": [
    {
     "name": "stdout",
     "output_type": "stream",
     "text": [
      "True\n"
     ]
    }
   ],
   "source": [
    "#  22. Check if two sets are identical.\n",
    "\n",
    "name= {1,2,3,4,5}\n",
    "rollno= {1,2,3,4,5}\n",
    "print(name==rollno)"
   ]
  },
  {
   "cell_type": "code",
   "execution_count": 34,
   "id": "f5ca9a5a-cd9f-4b57-a695-d78fc84b2433",
   "metadata": {},
   "outputs": [
    {
     "name": "stdout",
     "output_type": "stream",
     "text": [
      "True\n",
      "False\n"
     ]
    }
   ],
   "source": [
    "#  23. Create a frozen set.\n",
    "\n",
    "animals = frozenset([\"cat\", \"dog\", \"lion\"])\n",
    "print(\"cat\" in animals)\n",
    "print(\"elephant\" in animals)"
   ]
  },
  {
   "cell_type": "code",
   "execution_count": 35,
   "id": "77fed17f-35a5-4456-b7ff-f945833a0616",
   "metadata": {},
   "outputs": [
    {
     "name": "stdout",
     "output_type": "stream",
     "text": [
      "True\n"
     ]
    }
   ],
   "source": [
    "#  24. Check if a set is disjoint with another set.\n",
    "\n",
    "s1 = {1, 2, 3}\n",
    "s2 = {4, 5, 6}\n",
    "print(s1.isdisjoint(s2))"
   ]
  },
  {
   "cell_type": "code",
   "execution_count": 39,
   "id": "c8e88ca1-958d-4f5c-9363-3181619b65ea",
   "metadata": {},
   "outputs": [
    {
     "name": "stdout",
     "output_type": "stream",
     "text": [
      "[1, 4, 9, 16, 25]\n"
     ]
    }
   ],
   "source": [
    "#  25. Create a set of squares of numbers from 1 to 5.\n",
    "\n",
    "old = {1, 2, 3, 4, 5}\n",
    "\n",
    "new = []\n",
    "for number in old:\n",
    "    new.append(number**2)\n",
    "print(new)\n",
    "\n",
    "# [1, 4, 9, 16, 25]"
   ]
  },
  {
   "cell_type": "code",
   "execution_count": 40,
   "id": "67e9bc8c-8e9c-4ad3-90de-b70b441c7066",
   "metadata": {},
   "outputs": [
    {
     "name": "stdout",
     "output_type": "stream",
     "text": [
      "[2, 4]\n"
     ]
    }
   ],
   "source": [
    "#  26. Filter out all even numbers from a set.\n",
    "\n",
    "lis = {1, 2, 3, 4, 5}\n",
    " \n",
    "out = []\n",
    " \n",
    "for num in lis:\n",
    " \n",
    "    # checking condition\n",
    "    if num % 2 == 0:\n",
    "        out.append(num)\n",
    " \n",
    " \n",
    "# printing output\n",
    "print(out)"
   ]
  },
  {
   "cell_type": "code",
   "execution_count": 43,
   "id": "58344a8e-4a26-405b-8b39-b082ef87d568",
   "metadata": {},
   "outputs": [
    {
     "name": "stdout",
     "output_type": "stream",
     "text": [
      "6\n",
      "24\n"
     ]
    }
   ],
   "source": [
    "#  27. Multiply all elements in a set by 2.\n",
    "\n",
    "def multiplyList(myList):\n",
    " \n",
    "    # Multiply elements one by one\n",
    "    result = 1\n",
    "    for x in myList:\n",
    "        result = result * x\n",
    "    return result\n",
    " \n",
    " \n",
    "# Driver code\n",
    "list1 = {1, 2, 3}\n",
    "list2 = {3, 2, 4}\n",
    "print(multiplyList(list1))\n",
    "print(multiplyList(list2))"
   ]
  },
  {
   "cell_type": "code",
   "execution_count": 47,
   "id": "4529b292-396a-43fb-82b3-5d629a7f7c22",
   "metadata": {},
   "outputs": [
    {
     "name": "stdout",
     "output_type": "stream",
     "text": [
      "[3, 4, 4, 6, 8, 9, 3, 9, 3, 6]\n"
     ]
    }
   ],
   "source": [
    "#  28. Create a set of random numbers.\n",
    "\n",
    "import random\n",
    " \n",
    "rand_list=[]\n",
    "n=10\n",
    "for i in range(n):\n",
    "    rand_list.append(random.randint(3,9))\n",
    "print(rand_list)"
   ]
  },
  {
   "cell_type": "code",
   "execution_count": 48,
   "id": "abb422f3-40af-4b6d-9f9d-00e9adffef8d",
   "metadata": {},
   "outputs": [
    {
     "name": "stdout",
     "output_type": "stream",
     "text": [
      "set is empty\n"
     ]
    }
   ],
   "source": [
    "#  29. Check if a set is empty.\n",
    "\n",
    "# Initializing an empty set\n",
    "MySet = {}\n",
    "# Using not operator\n",
    "if not MySet:\n",
    "    print (\"set is empty\")\n",
    "else:\n",
    "    print (\"set is not empty\")"
   ]
  },
  {
   "cell_type": "code",
   "execution_count": 49,
   "id": "784386a6-6e3f-4b91-9566-a2da3dee2216",
   "metadata": {},
   "outputs": [
    {
     "name": "stdout",
     "output_type": "stream",
     "text": [
      "True\n",
      "False\n"
     ]
    }
   ],
   "source": [
    "#  30. Create a nested set (hint: use frozenset).\n",
    "\n",
    "animals = frozenset([\"cat\", \"dog\", \"lion\"])\n",
    "print(\"cat\" in animals)\n",
    "print(\"elephant\" in animals)"
   ]
  },
  {
   "cell_type": "code",
   "execution_count": 50,
   "id": "0127f55a-13a2-4133-a8c0-03ab2c4cea38",
   "metadata": {},
   "outputs": [
    {
     "name": "stdout",
     "output_type": "stream",
     "text": [
      "{'cherry', 'apple'}\n"
     ]
    }
   ],
   "source": [
    "#  31. Remove an element from a set using the discard method.\n",
    "\n",
    "fruits = {\"apple\", \"banana\", \"cherry\"}\n",
    "\n",
    "fruits.discard(\"banana\")\n",
    "\n",
    "print(fruits)"
   ]
  },
  {
   "cell_type": "code",
   "execution_count": 53,
   "id": "18ce371c-c55e-4ccd-9201-925526af8e7c",
   "metadata": {},
   "outputs": [
    {
     "name": "stdout",
     "output_type": "stream",
     "text": [
      "True\n"
     ]
    }
   ],
   "source": [
    "#  32. Compare two sets.\n",
    "\n",
    "name= {1,2,3,4,5}\n",
    "rollno= {1,2,3,4,5}\n",
    "print(name==rollno)"
   ]
  },
  {
   "cell_type": "code",
   "execution_count": 54,
   "id": "766e536f-01c8-4aa8-8779-99a869357665",
   "metadata": {},
   "outputs": [
    {
     "name": "stdout",
     "output_type": "stream",
     "text": [
      "Initially\n",
      "The datatype of string : <class 'str'>\n",
      "Contents of string : Hello\n",
      "\n",
      "After the conversion\n",
      "The datatype of string : <class 'set'>\n",
      "Contents of string :  {'l', 'e', 'o', 'H'}\n"
     ]
    }
   ],
   "source": [
    "#  33. Create a set from a string.\n",
    "\n",
    "print(\"Initially\")\n",
    "print(\"The datatype of string : \" + str(type(string)))\n",
    "print(\"Contents of string : \" + string)\n",
    " \n",
    "# convert String to Set\n",
    "string = set(string)\n",
    "print(\"\\nAfter the conversion\")\n",
    "print(\"The datatype of string : \" + str(type(string)))\n",
    "print(\"Contents of string : \", string)"
   ]
  },
  {
   "cell_type": "code",
   "execution_count": 55,
   "id": "6c9062b5-0ed9-4fa2-9dae-c0c46799a4a4",
   "metadata": {},
   "outputs": [
    {
     "name": "stdout",
     "output_type": "stream",
     "text": [
      "Modified list is:  [1, -4, 3, -6, 7]\n"
     ]
    }
   ],
   "source": [
    "#  34. Convert a set of strings to a set of integers.\n",
    "\n",
    "lis = ['1', '-4', '3', '-6', '7']\n",
    "res = [eval(i) for i in lis]\n",
    "print(\"Modified list is: \", res)"
   ]
  },
  {
   "cell_type": "code",
   "execution_count": 57,
   "id": "8333b99a-e21b-4e7c-b1c8-0d4017fde251",
   "metadata": {},
   "outputs": [
    {
     "name": "stdout",
     "output_type": "stream",
     "text": [
      "Type before conversion :  <class 'int'>\n",
      "Type after conversion :  <class 'str'>\n"
     ]
    }
   ],
   "source": [
    "#  35. Convert a set of integers to a set of strings.\n",
    "\n",
    "num = 10\n",
    " \n",
    "# check  and print type of num variable\n",
    "print(\"Type before conversion : \",type(num))\n",
    " \n",
    "# convert the num into string\n",
    "converted_num = ''.join(list(str(num)))\n",
    " \n",
    "# print type of converted_num\n",
    "print(\"Type after conversion : \", type(converted_num))"
   ]
  },
  {
   "cell_type": "code",
   "execution_count": 68,
   "id": "0ec25985-489f-4f89-ad4b-dda855648fb9",
   "metadata": {},
   "outputs": [],
   "source": [
    "#  36. Create a set from a tuple.\n",
    "\n",
    "mySet = set((x,y) for x in range(1,51) for y in range(1,51))\n",
    "print(mySet)"
   ]
  },
  {
   "cell_type": "code",
   "execution_count": 69,
   "id": "e223dda0-d9b1-4fa2-9c1a-366e3716cda4",
   "metadata": {},
   "outputs": [
    {
     "name": "stdout",
     "output_type": "stream",
     "text": [
      "<class 'set'>   {'e', 'a', 'c', 'b', 'd'}\n",
      "<class 'tuple'>   ('e', 'a', 'c', 'b', 'd')\n"
     ]
    }
   ],
   "source": [
    "#  37. Convert a set to a tuple.\n",
    "\n",
    "s = {'a', 'b', 'c', 'd', 'e'}\n",
    " \n",
    "# print set\n",
    "print(type(s), \" \", s)\n",
    " \n",
    "# call tuple() method\n",
    "# this method convert set to tuple\n",
    "t = tuple(s)\n",
    " \n",
    "# print tuple\n",
    "print(type(t), \" \", t)"
   ]
  },
  {
   "cell_type": "code",
   "execution_count": 70,
   "id": "e15994a9-abc5-4364-9c53-bf67788cefd7",
   "metadata": {},
   "outputs": [
    {
     "name": "stdout",
     "output_type": "stream",
     "text": [
      "65\n"
     ]
    }
   ],
   "source": [
    "#  38. Find the maximum value in a set.\n",
    "\n",
    "def MAX(sets):\n",
    "    return (max(sets))\n",
    "     \n",
    "# Driver Code\n",
    "sets = set([8, 16, 24, 1, 25, 3, 10, 65, 55])\n",
    "print(MAX(sets))"
   ]
  },
  {
   "cell_type": "code",
   "execution_count": 71,
   "id": "a072dcbc-8c8a-4848-b292-fd5b9aa8dbfd",
   "metadata": {},
   "outputs": [
    {
     "name": "stdout",
     "output_type": "stream",
     "text": [
      "1\n"
     ]
    }
   ],
   "source": [
    "# 39. Find the minimum value in a set. \n",
    "\n",
    "def MIN(sets):\n",
    "    return (min(sets))\n",
    "     \n",
    "# Driver Code\n",
    "sets = set([8, 16, 24, 1, 25, 3, 10, 65, 55])\n",
    "print(MIN(sets))"
   ]
  },
  {
   "cell_type": "code",
   "execution_count": 72,
   "id": "4ad1565e-a531-48c7-9dec-92c520d4c221",
   "metadata": {},
   "outputs": [
    {
     "name": "stdin",
     "output_type": "stream",
     "text": [
      "Enter space-separated words:  Hello India\n"
     ]
    },
    {
     "name": "stdout",
     "output_type": "stream",
     "text": [
      "{'India', 'Hello'}\n"
     ]
    }
   ],
   "source": [
    "#  40. Create a set from user input.\n",
    "\n",
    "my_set = set(input('Enter space-separated words: ').split())\n",
    "\n",
    "print(my_set)"
   ]
  },
  {
   "cell_type": "code",
   "execution_count": 76,
   "id": "bfa7bef7-14c2-44a5-bb0c-a6a87fe87195",
   "metadata": {},
   "outputs": [
    {
     "data": {
      "text/plain": [
       "0"
      ]
     },
     "execution_count": 76,
     "metadata": {},
     "output_type": "execute_result"
    }
   ],
   "source": [
    "#  41. Check if the intersection of two sets is empty.\n",
    "\n",
    "L = [1,2,3,4,5,6]\n",
    "M = [8,9,10]\n",
    "len(set.intersection(set(L), set(M)))"
   ]
  },
  {
   "cell_type": "code",
   "execution_count": 77,
   "id": "98f734af-5686-49f8-b7d5-96722c2e0239",
   "metadata": {},
   "outputs": [
    {
     "name": "stdout",
     "output_type": "stream",
     "text": [
      "1 2 3 5 8 13 21 34 55 89 \n"
     ]
    }
   ],
   "source": [
    "#  42. Create a set of the first 5 Fibonacci numbers.\n",
    "\n",
    "n = 10\n",
    "num1 = 0\n",
    "num2 = 1\n",
    "next_number = num2 \n",
    "count = 1\n",
    " \n",
    "while count <= n:\n",
    "    print(next_number, end=\" \")\n",
    "    count += 1\n",
    "    num1, num2 = num2, next_number\n",
    "    next_number = num1 + num2\n",
    "print()"
   ]
  },
  {
   "cell_type": "code",
   "execution_count": 78,
   "id": "5fdc6c82-e23d-49a2-820c-98c3813fa06b",
   "metadata": {},
   "outputs": [
    {
     "name": "stdout",
     "output_type": "stream",
     "text": [
      "The original list is : [1, 5, 3, 6, 3, 5, 6, 1]\n",
      "The list after removing duplicates : [1, 3, 5, 6]\n"
     ]
    }
   ],
   "source": [
    "#  43. Remove duplicates from a list using sets.\n",
    "\n",
    "test_list = [1, 5, 3, 6, 3, 5, 6, 1]\n",
    "print (\"The original list is : \"\n",
    "        + str(test_list))\n",
    " \n",
    "# using set() to remove duplicated from list\n",
    "test_list = list(set(test_list))\n",
    " \n",
    "# printing list after removal\n",
    "# distorted ordering\n",
    "print (\"The list after removing duplicates : \"\n",
    "        + str(test_list))"
   ]
  },
  {
   "cell_type": "code",
   "execution_count": 81,
   "id": "2552f4fd-449e-4556-8c8f-5bbf02d111f8",
   "metadata": {},
   "outputs": [
    {
     "data": {
      "text/plain": [
       "True"
      ]
     },
     "execution_count": 81,
     "metadata": {},
     "output_type": "execute_result"
    }
   ],
   "source": [
    "#  44. Check if two sets have the same elements, regardless of their count.\n",
    "\n",
    "x = ['a', 'b']\n",
    "y = ['b', 'a']\n",
    "import collections\n",
    "collections.Counter(x) == collections.Counter(y)"
   ]
  },
  {
   "cell_type": "code",
   "execution_count": 86,
   "id": "f4418248-51ed-434f-bb71-d1635e8d7c1b",
   "metadata": {},
   "outputs": [
    {
     "name": "stdout",
     "output_type": "stream",
     "text": [
      "Enter the Total Number of Terms: \n"
     ]
    },
    {
     "name": "stdin",
     "output_type": "stream",
     "text": [
      " 2\n"
     ]
    },
    {
     "name": "stdout",
     "output_type": "stream",
     "text": [
      "2 raised to the power  0  is  1\n",
      "2 raised to the power  1  is  2\n"
     ]
    }
   ],
   "source": [
    "##  45. Create a set of the first `n` powers of 2.\n",
    "\n",
    "print(\"Enter the Total Number of Terms: \")\n",
    "tot = int(input())\n",
    "\n",
    "for i in range(tot):\n",
    "    print(\"2 raised to the power \", i, \" is \", 2 ** i)\n",
    "    "
   ]
  },
  {
   "cell_type": "code",
   "execution_count": 89,
   "id": "bfbaeed3-ae9f-4430-b441-c571bfa444c5",
   "metadata": {},
   "outputs": [
    {
     "name": "stdout",
     "output_type": "stream",
     "text": [
      "{80, 20}\n"
     ]
    }
   ],
   "source": [
    "# 46. Find the common elements between a set and a list.\n",
    "\n",
    "def find_common(list1, list2, list3):\n",
    "    common = set()\n",
    "    for elem in list1:\n",
    "        if elem in list2 and elem in list3:\n",
    "            common.add(elem)\n",
    "    return common\n",
    " \n",
    "list1 = [1, 5, 10, 20, 40, 80]\n",
    "list2 = [6, 7, 20, 80, 100]\n",
    "list3 = [3, 4, 15, 20, 30, 70, 80, 120]\n",
    " \n",
    "common = find_common(list1, list2, list3)\n",
    "print(common)"
   ]
  },
  {
   "cell_type": "code",
   "execution_count": 90,
   "id": "2e9f6218-175e-435c-8d0d-d5c21ee50508",
   "metadata": {},
   "outputs": [
    {
     "name": "stdout",
     "output_type": "stream",
     "text": [
      "1 3 6 10 15 "
     ]
    }
   ],
   "source": [
    "#  47. Create a set of the first `n` triangular numbers.\n",
    "\n",
    "def triangular_series( n ):\n",
    "    j = 1\n",
    "    k = 1\n",
    "     \n",
    "    # For each iteration increase j\n",
    "    # by 1 and add it into k\n",
    "    for i in range(1, n + 1):\n",
    "        print(k, end = ' ')\n",
    "        j = j + 1 # Increasing j by 1\n",
    "         \n",
    "        # Add value of j into k and update k\n",
    "        k = k + j\n",
    "         \n",
    "# Driven Code\n",
    "n = 5\n",
    "triangular_series(n)"
   ]
  },
  {
   "cell_type": "code",
   "execution_count": 91,
   "id": "6b74359d-3d5a-4637-9250-67ca83a1045a",
   "metadata": {},
   "outputs": [
    {
     "name": "stdout",
     "output_type": "stream",
     "text": [
      "True\n"
     ]
    }
   ],
   "source": [
    "#  48. Check if a set contains another set as a subset.\n",
    "\n",
    "s1 = {1, 2, 3, 4, 5}\n",
    "s2 = {4, 5}\n",
    "# Output True, since, s2 elements in s1\n",
    "print(s2.issubset(s1))"
   ]
  },
  {
   "cell_type": "code",
   "execution_count": 93,
   "id": "81acb002-dd82-43d7-8062-addd139d97d8",
   "metadata": {},
   "outputs": [
    {
     "name": "stdout",
     "output_type": "stream",
     "text": [
      "[1, 0, 1, 0, 1, 0, 1]\n"
     ]
    }
   ],
   "source": [
    "#  49. Create a set of alternating 1s and 0s of length `n`.\n",
    "\n",
    "import math\n",
    "\n",
    "# initializing the length and list\n",
    "length = 7\n",
    "result = [None] * length\n",
    "\n",
    "_1s_count = math.ceil(length / 2)\n",
    "_2s_count = length - _1s_count\n",
    "\n",
    "# adding 0s and 1s\n",
    "result[::2] = [1] * _1s_count\n",
    "result[1::2] = [0] * _2s_count\n",
    "\n",
    "# printing the result\n",
    "print(result)"
   ]
  },
  {
   "cell_type": "code",
   "execution_count": 94,
   "id": "100a645c-a1c1-4fd9-9aef-c24f133ec33d",
   "metadata": {},
   "outputs": [
    {
     "name": "stdout",
     "output_type": "stream",
     "text": [
      "{1, 3, 5, 7, 9}\n"
     ]
    }
   ],
   "source": [
    "#  50. Merge multiple sets into one.\n",
    "\n",
    "import itertools\n",
    " \n",
    "if __name__ == '__main__':\n",
    " \n",
    "    x = {1, 3}\n",
    "    y = {5}\n",
    "    z = {7, 9}\n",
    " \n",
    "    s = set(itertools.chain(x, y, z))\n",
    " \n",
    "    print(s)      \n",
    " "
   ]
  },
  {
   "cell_type": "code",
   "execution_count": null,
   "id": "197f1321-ed11-4fa7-90f1-5c4e7c64863f",
   "metadata": {},
   "outputs": [],
   "source": []
  }
 ],
 "metadata": {
  "kernelspec": {
   "display_name": "Python 3 (ipykernel)",
   "language": "python",
   "name": "python3"
  },
  "language_info": {
   "codemirror_mode": {
    "name": "ipython",
    "version": 3
   },
   "file_extension": ".py",
   "mimetype": "text/x-python",
   "name": "python",
   "nbconvert_exporter": "python",
   "pygments_lexer": "ipython3",
   "version": "3.10.8"
  }
 },
 "nbformat": 4,
 "nbformat_minor": 5
}
