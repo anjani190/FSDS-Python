{
 "cells": [
  {
   "cell_type": "code",
   "execution_count": 1,
   "id": "4b1d6e26-f3f4-4d58-8b2f-37a92878c3b8",
   "metadata": {},
   "outputs": [
    {
     "name": "stdout",
     "output_type": "stream",
     "text": [
      " New Value of x= 8 New Value of y= 4\n"
     ]
    }
   ],
   "source": [
    "# Q1. Declare two variables, `x` and `y`, and assign them integer values. Swap the\n",
    "#     values of these variables without using any temporary variable.\n",
    "\n",
    "x=4\n",
    "y=8\n",
    "x,y=8,4\n",
    "print(\" New Value of x=\",x,\"New Value of y=\",y)"
   ]
  },
  {
   "cell_type": "code",
   "execution_count": null,
   "id": "b8e1ac51-c850-4987-b111-5177ffecba12",
   "metadata": {},
   "outputs": [],
   "source": []
  },
  {
   "cell_type": "code",
   "execution_count": 4,
   "id": "fa2e303c-0bc0-4b45-aa68-6f99263c17bc",
   "metadata": {},
   "outputs": [
    {
     "name": "stdin",
     "output_type": "stream",
     "text": [
      "Length of rectangle= 6\n",
      "Width of rectangle= 4\n"
     ]
    },
    {
     "name": "stdout",
     "output_type": "stream",
     "text": [
      "Area of Rectangle= 24\n"
     ]
    }
   ],
   "source": [
    "#  Q2. Create a program that calculates the area of a rectangle. Take the length and\n",
    "#      width as inputs from the user and store them in variables. Calculate and\n",
    "#      display the area.\n",
    "\n",
    "\n",
    "L=int(input('Length of rectangle='))\n",
    "W=int(input('Width of rectangle='))\n",
    "Area=L*W\n",
    "print(\"Area of Rectangle=\",Area)"
   ]
  },
  {
   "cell_type": "code",
   "execution_count": null,
   "id": "9bdcad08-99fb-417e-ae54-b8eaa6f6ece0",
   "metadata": {},
   "outputs": [],
   "source": []
  },
  {
   "cell_type": "code",
   "execution_count": 5,
   "id": "ceada96e-3e18-4931-8b2b-80e3a1b7318a",
   "metadata": {},
   "outputs": [
    {
     "name": "stdout",
     "output_type": "stream",
     "text": [
      "107.60000000000001\n"
     ]
    }
   ],
   "source": [
    "# Q3. Write a Python program that converts temperatures from Celsius to\n",
    "#     Fahrenheit. Take the temperature in Celsius as input, store it in a variable,\n",
    "#     convert it to Fahrenheit, and display the result.\n",
    "\n",
    "# C- Celsius\n",
    "# F- Fahrenheit\n",
    "\n",
    "C=42\n",
    "F = C * (9/5) + 32\n",
    "print(F)\n"
   ]
  },
  {
   "cell_type": "code",
   "execution_count": null,
   "id": "293cdf3a-f1f0-416c-b447-cdf363163de0",
   "metadata": {},
   "outputs": [],
   "source": [
    "#  String Based Questions"
   ]
  },
  {
   "cell_type": "code",
   "execution_count": 9,
   "id": "130d7137-e3a6-4cc6-b473-219cf0c5e567",
   "metadata": {},
   "outputs": [
    {
     "name": "stdout",
     "output_type": "stream",
     "text": [
      "Length of string- 16\n"
     ]
    }
   ],
   "source": [
    "#  Q1. Write a Python program that takes a string as input and prints the length of\n",
    "#      the string.\n",
    "\n",
    "S=\"I Like PW Skills\"\n",
    "L=len(S)\n",
    "print(\"Length of string-\",L)\n"
   ]
  },
  {
   "cell_type": "code",
   "execution_count": null,
   "id": "9d6cffbf-142d-45e5-a169-f22f3b255999",
   "metadata": {},
   "outputs": [],
   "source": []
  },
  {
   "cell_type": "code",
   "execution_count": 16,
   "id": "68497ba3-4796-4f60-b42e-b9926806ae41",
   "metadata": {},
   "outputs": [
    {
     "name": "stdin",
     "output_type": "stream",
     "text": [
      "Please Enter Your Own String :  Hi My name is anjani kumar and I am from jharkhand\n"
     ]
    },
    {
     "name": "stdout",
     "output_type": "stream",
     "text": [
      "Total Number of Vowels in this String =  15\n"
     ]
    }
   ],
   "source": [
    "#  Q2. Create a program that takes a sentence from the user and counts the number\n",
    "#      of vowels (a, e, i, o, u) in the string.\n",
    "\n",
    "\n",
    "str1 = input(\"Please Enter Your Own String : \")\n",
    "vowels = 0\n",
    " \n",
    "for i in str1:\n",
    "    if(i == 'a' or i == 'e' or i == 'i' or i == 'o' or i == 'u' or i == 'A'\n",
    "       or i == 'E' or i == 'I' or i == 'O' or i == 'U'):\n",
    "        vowels = vowels + 1\n",
    " \n",
    "print(\"Total Number of Vowels in this String = \", vowels)\n",
    "    "
   ]
  },
  {
   "cell_type": "code",
   "execution_count": null,
   "id": "301b263f-ae47-4703-958e-1393f22f85d4",
   "metadata": {},
   "outputs": [],
   "source": []
  },
  {
   "cell_type": "code",
   "execution_count": 17,
   "id": "b64653c3-0e4c-4faf-bf58-529393932d17",
   "metadata": {},
   "outputs": [
    {
     "data": {
      "text/plain": [
       "'sllikS WP ekiL I'"
      ]
     },
     "execution_count": 17,
     "metadata": {},
     "output_type": "execute_result"
    }
   ],
   "source": [
    "# Q3. Given a string, reverse the order of characters using string slicing and print\n",
    "#     the reversed string.\n",
    "\n",
    "s1=\"I Like PW Skills\"\n",
    "s1[::-1]"
   ]
  },
  {
   "cell_type": "code",
   "execution_count": null,
   "id": "10daea39-e085-409a-9d1b-be4981330f2d",
   "metadata": {},
   "outputs": [],
   "source": []
  },
  {
   "cell_type": "code",
   "execution_count": 24,
   "id": "2d60ee88-741d-4b5d-9fff-306f52e20bea",
   "metadata": {
    "tags": []
   },
   "outputs": [
    {
     "name": "stdout",
     "output_type": "stream",
     "text": [
      "This is palindrome\n"
     ]
    }
   ],
   "source": [
    "#  Q4. Write a program that takes a string as input and checks if it is a palindrome\n",
    "#     (reads the same forwards and backwards).\n",
    "\n",
    "p1=\"madam\"\n",
    "p2=p1[::-1]\n",
    "if p1==p2:\n",
    "    print('This is palindrome')\n",
    "else:\n",
    "    print('This is not a palindrome')"
   ]
  },
  {
   "cell_type": "code",
   "execution_count": null,
   "id": "9c2573e8-5b79-4681-b6fb-8fe4594deac8",
   "metadata": {},
   "outputs": [],
   "source": []
  },
  {
   "cell_type": "code",
   "execution_count": 27,
   "id": "a89833a0-6e42-4e19-bc2f-02e95fc89741",
   "metadata": {},
   "outputs": [
    {
     "name": "stdout",
     "output_type": "stream",
     "text": [
      "Modified string- HelloPWSkills\n"
     ]
    }
   ],
   "source": [
    "#  Q5. Create a program that takes a string as input and removes all the spaces from\n",
    "#     it. Print the modified string without spaces.\n",
    "\n",
    "\n",
    "z1=\"Hello PW Skills\"\n",
    "z2=z1.replace(\" \",\"\")\n",
    "print(\"Modified string-\",z2)"
   ]
  },
  {
   "cell_type": "code",
   "execution_count": null,
   "id": "da97ad62-e123-4a43-81de-f25cd4c82ba8",
   "metadata": {},
   "outputs": [],
   "source": []
  }
 ],
 "metadata": {
  "kernelspec": {
   "display_name": "Python 3 (ipykernel)",
   "language": "python",
   "name": "python3"
  },
  "language_info": {
   "codemirror_mode": {
    "name": "ipython",
    "version": 3
   },
   "file_extension": ".py",
   "mimetype": "text/x-python",
   "name": "python",
   "nbconvert_exporter": "python",
   "pygments_lexer": "ipython3",
   "version": "3.10.8"
  }
 },
 "nbformat": 4,
 "nbformat_minor": 5
}
